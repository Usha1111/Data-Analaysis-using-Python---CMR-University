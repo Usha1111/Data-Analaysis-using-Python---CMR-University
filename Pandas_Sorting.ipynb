{
  "nbformat": 4,
  "nbformat_minor": 0,
  "metadata": {
    "colab": {
      "name": "Pandas_Sorting.ipynb",
      "provenance": []
    },
    "kernelspec": {
      "name": "python3",
      "display_name": "Python 3"
    },
    "language_info": {
      "name": "python"
    }
  },
  "cells": [
    {
      "cell_type": "code",
      "metadata": {
        "colab": {
          "base_uri": "https://localhost:8080/"
        },
        "id": "haorGUDLphVw",
        "outputId": "98a0fee3-fe88-4fb2-905b-96c6f92b12f5"
      },
      "source": [
        "import pandas as pd\n",
        "import numpy as np\n",
        "\n",
        "unsorted_df=pd.DataFrame(np.random.randn(10,2),index=[1,4,6,2,3,5,9,8,0,7],columns=['c2','c1'])\n",
        "print (unsorted_df)"
      ],
      "execution_count": 1,
      "outputs": [
        {
          "output_type": "stream",
          "name": "stdout",
          "text": [
            "         c2        c1\n",
            "1  0.078401 -2.038580\n",
            "4 -1.128152  2.541396\n",
            "6 -0.414925 -1.060654\n",
            "2  0.553794  0.772932\n",
            "3  0.385314 -0.252751\n",
            "5  0.000939 -0.730283\n",
            "9 -1.203595  0.335438\n",
            "8  1.486780  0.059569\n",
            "0 -0.187405 -0.549489\n",
            "7  0.904586  0.069548\n"
          ]
        }
      ]
    },
    {
      "cell_type": "code",
      "metadata": {
        "id": "Yjuz-r21pkcd"
      },
      "source": [
        "import pandas as pd\n",
        "import numpy as np\n",
        "\n",
        "unsorted_df = pd.DataFrame(np.random.randn(10,2),index=[1,4,6,2,3,5,9,8,0,7],columns = ['col2','col1'])\n",
        "\n",
        "sorted_df=unsorted_df.sort_index()\n",
        "print (sorted_df)"
      ],
      "execution_count": null,
      "outputs": []
    },
    {
      "cell_type": "code",
      "metadata": {
        "colab": {
          "base_uri": "https://localhost:8080/"
        },
        "id": "ZBaWrZTmpnIO",
        "outputId": "1e9490ec-4009-4ba9-b8dc-0a22fad78a10"
      },
      "source": [
        "import pandas as pd\n",
        "import numpy as np\n",
        "\n",
        "unsorted_df = pd.DataFrame(np.random.randn(10,2),index=[1,4,6,2,3,5,9,8,0,7],columns = ['c2','c1'])\n",
        "\n",
        "sorted_df = unsorted_df.sort_index(ascending=True)\n",
        "print (sorted_df)\n",
        "\n",
        "original_df = pd.DataFrame(np.random.randn(5,2),index=[0, 1, 2, 3, 4],columns = ['c2','c1'])\n",
        "sorted_new_df = original_df.sort_index(ascending=False)\n",
        "print (sorted_new_df)"
      ],
      "execution_count": 9,
      "outputs": [
        {
          "output_type": "stream",
          "name": "stdout",
          "text": [
            "         c2        c1\n",
            "0 -0.036458  1.432163\n",
            "1 -0.891171  2.176877\n",
            "2  0.009016 -0.259667\n",
            "3  0.469771 -0.400215\n",
            "4 -0.101168  0.742594\n",
            "5 -1.930761 -0.220391\n",
            "6 -0.950154  0.088771\n",
            "7  0.928374  0.261068\n",
            "8 -1.140083  0.690516\n",
            "9  1.666982 -1.489973\n",
            "         c2        c1\n",
            "4 -0.445682 -0.173965\n",
            "3 -0.848188  0.738084\n",
            "2 -1.210103  0.074992\n",
            "1  0.835333  0.762111\n",
            "0 -1.062756 -1.122847\n"
          ]
        }
      ]
    },
    {
      "cell_type": "code",
      "metadata": {
        "colab": {
          "base_uri": "https://localhost:8080/"
        },
        "id": "pEsLi_40poaF",
        "outputId": "5e5d6190-87e3-4619-d8c7-049faf9d57d4"
      },
      "source": [
        "import pandas as pd\n",
        "import numpy as np\n",
        " \n",
        "unsorted_df = pd.DataFrame(np.random.randn(10,2),index=[1,4,6,2,3,5,9,8,0,7],columns = ['c2','c1'])\n",
        " \n",
        "sorted_df=unsorted_df.sort_index(axis=1)\n",
        "\n",
        "print (sorted_df)"
      ],
      "execution_count": 10,
      "outputs": [
        {
          "output_type": "stream",
          "name": "stdout",
          "text": [
            "         c1        c2\n",
            "1  0.871154  0.490475\n",
            "4 -0.565155 -0.057603\n",
            "6 -1.392827  1.224649\n",
            "2 -0.086768 -0.835232\n",
            "3 -1.558933 -0.405297\n",
            "5  1.310414 -1.162160\n",
            "9  1.905252  1.389996\n",
            "8  0.344896 -1.317005\n",
            "0  0.066950  0.859902\n",
            "7  1.905742  0.060021\n"
          ]
        }
      ]
    },
    {
      "cell_type": "code",
      "metadata": {
        "colab": {
          "base_uri": "https://localhost:8080/"
        },
        "id": "5ZGgll-Xpq5r",
        "outputId": "0c8e71c9-9618-4af4-84be-93d43cf773f2"
      },
      "source": [
        "import pandas as pd\n",
        "import numpy as np\n",
        "\n",
        "unsorted_df = pd.DataFrame({'c1':[2,8,4,0],'c2':[1,3,2,4]})\n",
        "sorted_df = unsorted_df.sort_values(by='c1')\n",
        "\n",
        "print (sorted_df)"
      ],
      "execution_count": 12,
      "outputs": [
        {
          "output_type": "stream",
          "name": "stdout",
          "text": [
            "   c1  c2\n",
            "3   0   4\n",
            "0   2   1\n",
            "2   4   2\n",
            "1   8   3\n"
          ]
        }
      ]
    },
    {
      "cell_type": "code",
      "metadata": {
        "colab": {
          "base_uri": "https://localhost:8080/"
        },
        "id": "azJaqtspprkD",
        "outputId": "6cfd8004-0898-4a62-d872-0897f83f79d7"
      },
      "source": [
        "import pandas as pd\n",
        "import numpy as np\n",
        "\n",
        "unsorted_df = pd.DataFrame({'c1':[2,8,4,0],'c2':[1,3,2,4]})\n",
        "sorted_df = unsorted_df.sort_values(by=['c1','c2'])\n",
        "\n",
        "print (sorted_df)"
      ],
      "execution_count": 13,
      "outputs": [
        {
          "output_type": "stream",
          "name": "stdout",
          "text": [
            "   c1  c2\n",
            "3   0   4\n",
            "0   2   1\n",
            "2   4   2\n",
            "1   8   3\n"
          ]
        }
      ]
    },
    {
      "cell_type": "code",
      "metadata": {
        "colab": {
          "base_uri": "https://localhost:8080/"
        },
        "id": "GwcVV-3Rptp2",
        "outputId": "7c53e3c8-3d95-4b30-8c3e-ef8d6f1f4c91"
      },
      "source": [
        "import pandas as pd\n",
        "import numpy as np\n",
        "\n",
        "unsorted_df = pd.DataFrame({'c1':[2,8,4,0],'c2':[1,3,2,4]})\n",
        "sorted_df = unsorted_df.sort_values(by='c1' ,kind='mergesort')\n",
        "\n",
        "print (sorted_df)"
      ],
      "execution_count": 14,
      "outputs": [
        {
          "output_type": "stream",
          "name": "stdout",
          "text": [
            "   c1  c2\n",
            "3   0   4\n",
            "0   2   1\n",
            "2   4   2\n",
            "1   8   3\n"
          ]
        }
      ]
    }
  ]
}