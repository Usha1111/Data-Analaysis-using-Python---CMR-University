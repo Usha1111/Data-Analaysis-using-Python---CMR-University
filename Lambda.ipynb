{
  "nbformat": 4,
  "nbformat_minor": 0,
  "metadata": {
    "colab": {
      "name": "Lambda.ipynb",
      "provenance": []
    },
    "kernelspec": {
      "name": "python3",
      "display_name": "Python 3"
    },
    "language_info": {
      "name": "python"
    }
  },
  "cells": [
    {
      "cell_type": "code",
      "metadata": {
        "colab": {
          "base_uri": "https://localhost:8080/"
        },
        "id": "fe6Ar3pg8jWb",
        "outputId": "77555ac1-137d-4798-be0b-555aa6d1505e"
      },
      "source": [
        "# importing pandas library\n",
        "import pandas as pd\n",
        "\n",
        "# creating and initializing a list\n",
        "values= [['Usha',500],['Nikhitha',450],['Ria',300],['Rahath',400]]\n",
        "\n",
        "# creating a pandas dataframe\n",
        "df = pd.DataFrame(values,columns=['Name','Total_Marks'])\n",
        "\n",
        "# Applying lambda function to find\n",
        "# percentage of 'Total_Marks' column\n",
        "# using df.assign()\n",
        "df = df.assign(Percentage = lambda x: (x['Total_Marks'] /500 * 100))\n",
        "\n",
        "# displaying the data frame\n",
        "print(df)\n"
      ],
      "execution_count": 1,
      "outputs": [
        {
          "output_type": "stream",
          "name": "stdout",
          "text": [
            "       Name  Total_Marks  Percentage\n",
            "0      Usha          500       100.0\n",
            "1  Nikhitha          450        90.0\n",
            "2       Ria          300        60.0\n",
            "3    Rahath          400        80.0\n"
          ]
        }
      ]
    },
    {
      "cell_type": "code",
      "metadata": {
        "colab": {
          "base_uri": "https://localhost:8080/"
        },
        "id": "0BPtLGTu8khv",
        "outputId": "c6fb292f-5172-44ca-92b7-478c524441a7"
      },
      "source": [
        "\n",
        "import pandas as pd\n",
        "values_list = [[2, 1.2, 20], [4, 3.4, 56], [20, 4.6, 7],[12, 3.8, 9],[4, 5.6, 78]]\n",
        "df = pd.DataFrame(values_list, columns=['field1', 'field2', 'field3'])\n",
        "df = df.assign(Product=lambda x: (x['field1'] * x['field2'] * x['field3']))\n",
        "print(df)\n"
      ],
      "execution_count": 9,
      "outputs": [
        {
          "output_type": "stream",
          "name": "stdout",
          "text": [
            "   field1  field2  field3  Product\n",
            "0       2     1.2      20     48.0\n",
            "1       4     3.4      56    761.6\n",
            "2      20     4.6       7    644.0\n",
            "3      12     3.8       9    410.4\n",
            "4       4     5.6      78   1747.2\n"
          ]
        }
      ]
    },
    {
      "cell_type": "code",
      "metadata": {
        "colab": {
          "base_uri": "https://localhost:8080/"
        },
        "id": "y6IHkjcn8m1U",
        "outputId": "e7a67642-0100-426e-adde-3add1f5fee73"
      },
      "source": [
        "import pandas as pd\n",
        "import numpy as np\n",
        "\n",
        "values_list = [[2, 1.2, 20], [4, 3.4, 56], [20, 4.6, 7],[12, 3.8, 9],[4, 5.6, 78]]\n",
        "df = pd.DataFrame(values_list, columns=['field1', 'field2', 'field3'],\n",
        "\t\t\t\tindex=['a', 'b', 'c', 'd', 'e'])\n",
        "df = df.apply(lambda x: np.square(x) if x.name == 'd' else x, axis=1)\n",
        "print(df)\n"
      ],
      "execution_count": 10,
      "outputs": [
        {
          "output_type": "stream",
          "name": "stdout",
          "text": [
            "   field1  field2  field3\n",
            "a     2.0    1.20    20.0\n",
            "b     4.0    3.40    56.0\n",
            "c    20.0    4.60     7.0\n",
            "d   144.0   14.44    81.0\n",
            "e     4.0    5.60    78.0\n"
          ]
        }
      ]
    },
    {
      "cell_type": "code",
      "metadata": {
        "colab": {
          "base_uri": "https://localhost:8080/",
          "height": 206
        },
        "id": "4WGBARYO8oQ8",
        "outputId": "cb8566cb-029e-4a8e-b347-769af7cadf92"
      },
      "source": [
        "import pandas as pd\n",
        "import numpy as np\n",
        "\n",
        "values_list = [[2, 1.2, 20], [4, 3.4, 56], [20, 4.6, 7],[12, 3.8, 9],[4, 5.6, 78]]\n",
        "df = pd.DataFrame(values_list, columns=['field1', 'field2', 'field3'],\n",
        "\t\t\t\tindex=['a', 'b', 'c', 'd', 'e'])\n",
        "df = df.apply(lambda x: np.square(x) if x.name in [\n",
        "\t\t\t'a', 'c'] else x, axis=1)\n",
        "df\n"
      ],
      "execution_count": 12,
      "outputs": [
        {
          "output_type": "execute_result",
          "data": {
            "text/html": [
              "<div>\n",
              "<style scoped>\n",
              "    .dataframe tbody tr th:only-of-type {\n",
              "        vertical-align: middle;\n",
              "    }\n",
              "\n",
              "    .dataframe tbody tr th {\n",
              "        vertical-align: top;\n",
              "    }\n",
              "\n",
              "    .dataframe thead th {\n",
              "        text-align: right;\n",
              "    }\n",
              "</style>\n",
              "<table border=\"1\" class=\"dataframe\">\n",
              "  <thead>\n",
              "    <tr style=\"text-align: right;\">\n",
              "      <th></th>\n",
              "      <th>field1</th>\n",
              "      <th>field2</th>\n",
              "      <th>field3</th>\n",
              "    </tr>\n",
              "  </thead>\n",
              "  <tbody>\n",
              "    <tr>\n",
              "      <th>a</th>\n",
              "      <td>4.0</td>\n",
              "      <td>1.44</td>\n",
              "      <td>400.0</td>\n",
              "    </tr>\n",
              "    <tr>\n",
              "      <th>b</th>\n",
              "      <td>4.0</td>\n",
              "      <td>3.40</td>\n",
              "      <td>56.0</td>\n",
              "    </tr>\n",
              "    <tr>\n",
              "      <th>c</th>\n",
              "      <td>400.0</td>\n",
              "      <td>21.16</td>\n",
              "      <td>49.0</td>\n",
              "    </tr>\n",
              "    <tr>\n",
              "      <th>d</th>\n",
              "      <td>12.0</td>\n",
              "      <td>3.80</td>\n",
              "      <td>9.0</td>\n",
              "    </tr>\n",
              "    <tr>\n",
              "      <th>e</th>\n",
              "      <td>4.0</td>\n",
              "      <td>5.60</td>\n",
              "      <td>78.0</td>\n",
              "    </tr>\n",
              "  </tbody>\n",
              "</table>\n",
              "</div>"
            ],
            "text/plain": [
              "   field1  field2  field3\n",
              "a     4.0    1.44   400.0\n",
              "b     4.0    3.40    56.0\n",
              "c   400.0   21.16    49.0\n",
              "d    12.0    3.80     9.0\n",
              "e     4.0    5.60    78.0"
            ]
          },
          "metadata": {},
          "execution_count": 12
        }
      ]
    },
    {
      "cell_type": "code",
      "metadata": {
        "colab": {
          "base_uri": "https://localhost:8080/",
          "height": 206
        },
        "id": "Zp9SbvK28p0x",
        "outputId": "607e3f9e-399a-424f-de44-e2f1c96ef660"
      },
      "source": [
        "import pandas as pd\n",
        "import numpy as np\n",
        "\n",
        "values_list = [[2, 1.2, 20], [4, 3.4, 56], [20, 4.6, 7],[12, 3.8, 9],[4, 5.6, 78]]\n",
        "df = pd.DataFrame(values_list, columns=['field1', 'field2', 'field3'],\n",
        "\t\t\t\tindex=['a', 'b', 'c', 'd', 'e'])\n",
        "df = df.apply(lambda x: np.square(x) if x.name in ['b', 'f'] else x, axis=1)\n",
        "df = df.assign(Product=lambda x: (x['field1'] * x['field2'] * x['field3']))\n",
        "df\n"
      ],
      "execution_count": 13,
      "outputs": [
        {
          "output_type": "execute_result",
          "data": {
            "text/html": [
              "<div>\n",
              "<style scoped>\n",
              "    .dataframe tbody tr th:only-of-type {\n",
              "        vertical-align: middle;\n",
              "    }\n",
              "\n",
              "    .dataframe tbody tr th {\n",
              "        vertical-align: top;\n",
              "    }\n",
              "\n",
              "    .dataframe thead th {\n",
              "        text-align: right;\n",
              "    }\n",
              "</style>\n",
              "<table border=\"1\" class=\"dataframe\">\n",
              "  <thead>\n",
              "    <tr style=\"text-align: right;\">\n",
              "      <th></th>\n",
              "      <th>field1</th>\n",
              "      <th>field2</th>\n",
              "      <th>field3</th>\n",
              "      <th>Product</th>\n",
              "    </tr>\n",
              "  </thead>\n",
              "  <tbody>\n",
              "    <tr>\n",
              "      <th>a</th>\n",
              "      <td>2.0</td>\n",
              "      <td>1.20</td>\n",
              "      <td>20.0</td>\n",
              "      <td>48.00</td>\n",
              "    </tr>\n",
              "    <tr>\n",
              "      <th>b</th>\n",
              "      <td>16.0</td>\n",
              "      <td>11.56</td>\n",
              "      <td>3136.0</td>\n",
              "      <td>580034.56</td>\n",
              "    </tr>\n",
              "    <tr>\n",
              "      <th>c</th>\n",
              "      <td>20.0</td>\n",
              "      <td>4.60</td>\n",
              "      <td>7.0</td>\n",
              "      <td>644.00</td>\n",
              "    </tr>\n",
              "    <tr>\n",
              "      <th>d</th>\n",
              "      <td>12.0</td>\n",
              "      <td>3.80</td>\n",
              "      <td>9.0</td>\n",
              "      <td>410.40</td>\n",
              "    </tr>\n",
              "    <tr>\n",
              "      <th>e</th>\n",
              "      <td>4.0</td>\n",
              "      <td>5.60</td>\n",
              "      <td>78.0</td>\n",
              "      <td>1747.20</td>\n",
              "    </tr>\n",
              "  </tbody>\n",
              "</table>\n",
              "</div>"
            ],
            "text/plain": [
              "   field1  field2  field3    Product\n",
              "a     2.0    1.20    20.0      48.00\n",
              "b    16.0   11.56  3136.0  580034.56\n",
              "c    20.0    4.60     7.0     644.00\n",
              "d    12.0    3.80     9.0     410.40\n",
              "e     4.0    5.60    78.0    1747.20"
            ]
          },
          "metadata": {},
          "execution_count": 13
        }
      ]
    }
  ]
}