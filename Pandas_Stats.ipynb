{
  "nbformat": 4,
  "nbformat_minor": 0,
  "metadata": {
    "colab": {
      "name": "Pandas_Stats.ipynb",
      "provenance": []
    },
    "kernelspec": {
      "name": "python3",
      "display_name": "Python 3"
    },
    "language_info": {
      "name": "python"
    }
  },
  "cells": [
    {
      "cell_type": "code",
      "metadata": {
        "colab": {
          "base_uri": "https://localhost:8080/"
        },
        "id": "FY0EdMUKO7xo",
        "outputId": "960f36a2-4e51-4035-e80a-e4386885aa8b"
      },
      "source": [
        "import pandas as pd\n",
        "import numpy as np\n",
        "#Create a Dictionary of series\n",
        "d = {'Name':pd.Series(['usha', 'nikhitha', 'ria', 'rijwana', 'rihana', 'manasa', 'manya','rahath']),\n",
        "   'Age':pd.Series([20, 21, 32, 24, 25, 27, 15, 26]),\n",
        "   'Rank':pd.Series([1, 2, 5, 3, 4, 7, 8, 6])}\n",
        "\n",
        "#Create a DataFrame\n",
        "df = pd.DataFrame(d)\n",
        "print (df)"
      ],
      "execution_count": null,
      "outputs": [
        {
          "output_type": "stream",
          "name": "stdout",
          "text": [
            "       Name  Age  Rank\n",
            "0      usha   20     1\n",
            "1  nikhitha   21     2\n",
            "2       ria   32     5\n",
            "3   rijwana   24     3\n",
            "4    rihana   25     4\n",
            "5    manasa   27     7\n",
            "6     manya   15     8\n",
            "7    rahath   26     6\n"
          ]
        }
      ]
    },
    {
      "cell_type": "code",
      "metadata": {
        "id": "gKiUEZVOPPlx",
        "colab": {
          "base_uri": "https://localhost:8080/"
        },
        "outputId": "f10f783f-da74-4f0c-e163-9e9344787402"
      },
      "source": [
        "import pandas as pd\n",
        "import numpy as np\n",
        " \n",
        "d = {'Name':pd.Series(['usha', 'nikhitha', 'ria', 'rijwana', 'rihana', 'manasa', 'manya','rahath']),\n",
        "   'Age':pd.Series([20, 21, 32, 24, 25, 27, 15, 26]),\n",
        "   'Rank':pd.Series([1, 2, 5, 3, 4, 7, 8, 6])}\n",
        "\n",
        "df = pd.DataFrame(d)\n",
        "print (df.sum())\n"
      ],
      "execution_count": 1,
      "outputs": [
        {
          "output_type": "stream",
          "name": "stdout",
          "text": [
            "Name    ushanikhithariarijwanarihanamanasamanyarahath\n",
            "Age                                               190\n",
            "Rank                                               36\n",
            "dtype: object\n"
          ]
        }
      ]
    },
    {
      "cell_type": "code",
      "metadata": {
        "id": "YuLmButwPRPx",
        "colab": {
          "base_uri": "https://localhost:8080/"
        },
        "outputId": "2a70fd4c-add6-4a3b-8d54-f4526df55188"
      },
      "source": [
        "import pandas as pd\n",
        "import numpy as np\n",
        "\n",
        "d = {'Name':pd.Series(['usha', 'nikhitha', 'ria', 'rijwana', 'rihana', 'manasa', 'manya','rahath']),\n",
        "   'Age':pd.Series([20, 21, 32, 24, 25, 27, 15, 26]),\n",
        "   'Rank':pd.Series([1, 2, 5, 3, 4, 7, 8, 6])}\n",
        "\n",
        "df = pd.DataFrame(d)\n",
        "print (df.sum(1))"
      ],
      "execution_count": 2,
      "outputs": [
        {
          "output_type": "stream",
          "name": "stdout",
          "text": [
            "0    21\n",
            "1    23\n",
            "2    37\n",
            "3    27\n",
            "4    29\n",
            "5    34\n",
            "6    23\n",
            "7    32\n",
            "dtype: int64\n"
          ]
        }
      ]
    },
    {
      "cell_type": "code",
      "metadata": {
        "id": "Q5iGW8ivPUC6",
        "colab": {
          "base_uri": "https://localhost:8080/"
        },
        "outputId": "5aeb0de8-8545-4a5e-84be-05fbb9bb2193"
      },
      "source": [
        "import pandas as pd\n",
        "import numpy as np\n",
        "\n",
        "d = {'Name':pd.Series(['usha', 'nikhitha', 'ria', 'rijwana', 'rihana', 'manasa', 'manya','rahath']),\n",
        "   'Age':pd.Series([20, 21, 32, 24, 25, 27, 15, 26]),\n",
        "   'Rank':pd.Series([1, 2, 5, 3, 4, 7, 8, 6])}\n",
        "\n",
        "df = pd.DataFrame(d)\n",
        "print (df.mean())"
      ],
      "execution_count": 3,
      "outputs": [
        {
          "output_type": "stream",
          "name": "stdout",
          "text": [
            "Age     23.75\n",
            "Rank     4.50\n",
            "dtype: float64\n"
          ]
        }
      ]
    },
    {
      "cell_type": "code",
      "metadata": {
        "id": "FnyUX0tsPV4l",
        "colab": {
          "base_uri": "https://localhost:8080/"
        },
        "outputId": "f734659d-4ca5-4dc5-cb24-14ae0d04024e"
      },
      "source": [
        "import pandas as pd\n",
        "import numpy as np\n",
        "\n",
        "d = {'Name':pd.Series(['usha', 'nikhitha', 'ria', 'rijwana', 'rihana', 'manasa', 'manya','rahath']),\n",
        "   'Age':pd.Series([20, 21, 32, 24, 25, 27, 15, 26]),\n",
        "   'Rank':pd.Series([1, 2, 5, 3, 4, 7, 8, 6])}\n",
        "\n",
        "df = pd.DataFrame(d)\n",
        "print (df.std())"
      ],
      "execution_count": 4,
      "outputs": [
        {
          "output_type": "stream",
          "name": "stdout",
          "text": [
            "Age     5.119989\n",
            "Rank    2.449490\n",
            "dtype: float64\n"
          ]
        }
      ]
    },
    {
      "cell_type": "code",
      "metadata": {
        "id": "qdsYBdTMPWeq",
        "colab": {
          "base_uri": "https://localhost:8080/"
        },
        "outputId": "29b1fb4c-2710-4afd-9ab8-4753bdd2e9a8"
      },
      "source": [
        "import pandas as pd\n",
        "import numpy as np\n",
        "\n",
        "d = {'Name':pd.Series(['usha', 'nikhitha', 'ria', 'rijwana', 'rihana', 'manasa', 'manya','rahath']),\n",
        "   'Age':pd.Series([20, 21, 32, 24, 25, 27, 15, 26]),\n",
        "   'Rank':pd.Series([1, 2, 5, 3, 4, 7, 8, 6])}\n",
        "\n",
        "df = pd.DataFrame(d)\n",
        "print (df.describe())"
      ],
      "execution_count": 5,
      "outputs": [
        {
          "output_type": "stream",
          "name": "stdout",
          "text": [
            "             Age     Rank\n",
            "count   8.000000  8.00000\n",
            "mean   23.750000  4.50000\n",
            "std     5.119989  2.44949\n",
            "min    15.000000  1.00000\n",
            "25%    20.750000  2.75000\n",
            "50%    24.500000  4.50000\n",
            "75%    26.250000  6.25000\n",
            "max    32.000000  8.00000\n"
          ]
        }
      ]
    },
    {
      "cell_type": "code",
      "metadata": {
        "id": "9aKDkMmIPZsu",
        "colab": {
          "base_uri": "https://localhost:8080/"
        },
        "outputId": "9594c3fa-4576-4218-e7de-9a06024c8f46"
      },
      "source": [
        "import pandas as pd\n",
        "import numpy as np\n",
        "\n",
        "d = {'Name':pd.Series(['usha', 'nikhitha', 'ria', 'rijwana', 'rihana', 'manasa', 'manya','rahath']),\n",
        "   'Age':pd.Series([20, 21, 32, 24, 25, 27, 15, 26]),\n",
        "   'Rank':pd.Series([1, 2, 5, 3, 4, 7, 8, 6])}\n",
        "\n",
        "df = pd.DataFrame(d)\n",
        "print (df.describe(include=['object']))"
      ],
      "execution_count": 6,
      "outputs": [
        {
          "output_type": "stream",
          "name": "stdout",
          "text": [
            "        Name\n",
            "count      8\n",
            "unique     8\n",
            "top     usha\n",
            "freq       1\n"
          ]
        }
      ]
    },
    {
      "cell_type": "code",
      "metadata": {
        "id": "8DawSyUwPcWV",
        "colab": {
          "base_uri": "https://localhost:8080/"
        },
        "outputId": "3cf8387d-fa93-46a7-fab4-04ebaf7a9afb"
      },
      "source": [
        "import pandas as pd\n",
        "import numpy as np\n",
        "\n",
        "d = {'Name':pd.Series(['usha', 'nikhitha', 'ria', 'rijwana', 'rihana', 'manasa', 'manya','rahath']),\n",
        "   'Age':pd.Series([20, 21, 32, 24, 25, 27, 15, 26]),\n",
        "   'Rank':pd.Series([1, 2, 5, 3, 4, 7, 8, 6])}\n",
        "\n",
        "df = pd.DataFrame(d)\n",
        "print (df. describe(include='all'))"
      ],
      "execution_count": 7,
      "outputs": [
        {
          "output_type": "stream",
          "name": "stdout",
          "text": [
            "        Name        Age     Rank\n",
            "count      8   8.000000  8.00000\n",
            "unique     8        NaN      NaN\n",
            "top     usha        NaN      NaN\n",
            "freq       1        NaN      NaN\n",
            "mean     NaN  23.750000  4.50000\n",
            "std      NaN   5.119989  2.44949\n",
            "min      NaN  15.000000  1.00000\n",
            "25%      NaN  20.750000  2.75000\n",
            "50%      NaN  24.500000  4.50000\n",
            "75%      NaN  26.250000  6.25000\n",
            "max      NaN  32.000000  8.00000\n"
          ]
        }
      ]
    },
    {
      "cell_type": "code",
      "metadata": {
        "id": "gPJVwLTsPc34",
        "colab": {
          "base_uri": "https://localhost:8080/"
        },
        "outputId": "569aebcd-7c54-4573-b2bd-7f028a676fb4"
      },
      "source": [
        "# Import package\n",
        "from pandas import DataFrame\n",
        "\n",
        "# Create DataFrame\n",
        "cart = {'Product': ['apple', 'samsung', 'oppo', 'vivo'],\n",
        "\t\t'Price': [200000, 15000, 8000, 12000],\n",
        "\t\t'Year': [2016, 2010, 2018, 2019]\n",
        "\t\t}\n",
        "df = DataFrame(cart, columns = ['Product', 'Price', 'Year'])\n",
        "\n",
        "# Original DataFrame\n",
        "print(\"Original DataFrame:\\n\", df)\n",
        "\n",
        "# Describing descriptive statistics of Price\n",
        "print(\"\\nDescriptive statistics of Price:\\n\")\n",
        "stats = df['Price'].describe()\n",
        "print(stats)\n"
      ],
      "execution_count": 8,
      "outputs": [
        {
          "output_type": "stream",
          "name": "stdout",
          "text": [
            "Original DataFrame:\n",
            "    Product   Price  Year\n",
            "0    apple  200000  2016\n",
            "1  samsung   15000  2010\n",
            "2     oppo    8000  2018\n",
            "3     vivo   12000  2019\n",
            "\n",
            "Descriptive statistics of Price:\n",
            "\n",
            "count         4.000000\n",
            "mean      58750.000000\n",
            "std       94210.314368\n",
            "min        8000.000000\n",
            "25%       11000.000000\n",
            "50%       13500.000000\n",
            "75%       61250.000000\n",
            "max      200000.000000\n",
            "Name: Price, dtype: float64\n"
          ]
        }
      ]
    },
    {
      "cell_type": "code",
      "metadata": {
        "id": "74vi06HrPfvJ",
        "colab": {
          "base_uri": "https://localhost:8080/"
        },
        "outputId": "cbf4458d-ce9f-4cb3-ee7d-2566cf9ea5bc"
      },
      "source": [
        "# Create DataFrame\n",
        "cart = {'Product': ['apple', 'samsung', 'oppo', 'vivo'],\n",
        "\t\t'Price': [200000, 15000, 8000, 12000],\n",
        "\t\t'Year': [2016, 2010, 2018, 2019]\n",
        "\t\t}\n",
        "df = DataFrame(cart, columns = ['Product', 'Price', 'Year'])\n",
        "\n",
        "# Original DataFrame\n",
        "print(\"Original DataFrame:\\n\", df)\n",
        "\n",
        "# Describing descriptive statistics of Year\n",
        "print(\"\\nDescriptive statistics of year:\\n\")\n",
        "stats = df['Year'].describe()\n",
        "print(stats)\n"
      ],
      "execution_count": 9,
      "outputs": [
        {
          "output_type": "stream",
          "name": "stdout",
          "text": [
            "Original DataFrame:\n",
            "    Product   Price  Year\n",
            "0    apple  200000  2016\n",
            "1  samsung   15000  2010\n",
            "2     oppo    8000  2018\n",
            "3     vivo   12000  2019\n",
            "\n",
            "Descriptive statistics of year:\n",
            "\n",
            "count       4.000000\n",
            "mean     2015.750000\n",
            "std         4.031129\n",
            "min      2010.000000\n",
            "25%      2014.500000\n",
            "50%      2017.000000\n",
            "75%      2018.250000\n",
            "max      2019.000000\n",
            "Name: Year, dtype: float64\n"
          ]
        }
      ]
    },
    {
      "cell_type": "code",
      "metadata": {
        "id": "yz4b4k4BPho9",
        "colab": {
          "base_uri": "https://localhost:8080/"
        },
        "outputId": "a8c90d2a-8792-452c-c709-0343090dd4d8"
      },
      "source": [
        "# Create DataFrame\n",
        "cart = {'Product': ['apple', 'samsung', 'oppo', 'vivo'],\n",
        "\t\t'Price': [200000, 15000, 8000, 12000],\n",
        "\t\t'Year': [2016, 2010, 2018, 2019]\n",
        "\t\t}\n",
        "df = DataFrame(cart, columns = ['Product', 'Price', 'Year'])\n",
        "\n",
        "# Original DataFrame\n",
        "print(\"Original DataFrame:\\n\", df)\n",
        "\n",
        "# Describing descriptive statistics of whole dataframe\n",
        "print(\"\\nDescriptive statistics of whole dataframe:\\n\")\n",
        "stats = df.describe(include = 'all')\n",
        "print(stats)\n"
      ],
      "execution_count": 10,
      "outputs": [
        {
          "output_type": "stream",
          "name": "stdout",
          "text": [
            "Original DataFrame:\n",
            "    Product   Price  Year\n",
            "0    apple  200000  2016\n",
            "1  samsung   15000  2010\n",
            "2     oppo    8000  2018\n",
            "3     vivo   12000  2019\n",
            "\n",
            "Descriptive statistics of whole dataframe:\n",
            "\n",
            "        Product          Price         Year\n",
            "count         4       4.000000     4.000000\n",
            "unique        4            NaN          NaN\n",
            "top     samsung            NaN          NaN\n",
            "freq          1            NaN          NaN\n",
            "mean        NaN   58750.000000  2015.750000\n",
            "std         NaN   94210.314368     4.031129\n",
            "min         NaN    8000.000000  2010.000000\n",
            "25%         NaN   11000.000000  2014.500000\n",
            "50%         NaN   13500.000000  2017.000000\n",
            "75%         NaN   61250.000000  2018.250000\n",
            "max         NaN  200000.000000  2019.000000\n"
          ]
        }
      ]
    },
    {
      "cell_type": "code",
      "metadata": {
        "id": "95awwTiePjuB",
        "colab": {
          "base_uri": "https://localhost:8080/"
        },
        "outputId": "48321a9c-bc66-4d37-d4c8-102b18dfa589"
      },
      "source": [
        "# Create DataFrame\n",
        "cart = {'Product': ['apple', 'samsung', 'oppo', 'vivo'],\n",
        "\t\t'Price': [200000, 15000, 8000, 12000],\n",
        "\t\t'Year': [2016, 2010, 2018, 2019]\n",
        "\t\t}\n",
        "df = DataFrame(cart, columns = ['Product', 'Price', 'Year'])\n",
        "\n",
        "# Original DataFrame\n",
        "print(\"Original DataFrame:\\n\", df)\n",
        "\n",
        "# Print Count of Price\n",
        "print(\"\\nCount of Price:\\n\")\n",
        "counts = df['Price'].count()\n",
        "print(counts)\n",
        "\n",
        "# Print mean of Price\n",
        "print(\"\\nMean of Price:\\n\")\n",
        "m = df['Price'].mean()\n",
        "print(m)\n",
        "\n",
        "# Print maximum value of Price\n",
        "print(\"\\nMaximum value of Price:\\n\")\n",
        "mx = df['Price'].max()\n",
        "print(m)\n",
        "\n",
        "# Print standard deviation of Price\n",
        "print(\"\\nStandard deviation of Price:\\n\")\n",
        "sd = df['Price'].std()\n",
        "print(sd)\n"
      ],
      "execution_count": 11,
      "outputs": [
        {
          "output_type": "stream",
          "name": "stdout",
          "text": [
            "Original DataFrame:\n",
            "    Product   Price  Year\n",
            "0    apple  200000  2016\n",
            "1  samsung   15000  2010\n",
            "2     oppo    8000  2018\n",
            "3     vivo   12000  2019\n",
            "\n",
            "Count of Price:\n",
            "\n",
            "4\n",
            "\n",
            "Mean of Price:\n",
            "\n",
            "58750.0\n",
            "\n",
            "Maximum value of Price:\n",
            "\n",
            "58750.0\n",
            "\n",
            "Standard deviation of Price:\n",
            "\n",
            "94210.31436808464\n"
          ]
        }
      ]
    }
  ]
}