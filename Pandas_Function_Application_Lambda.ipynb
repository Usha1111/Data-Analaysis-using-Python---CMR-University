{
  "nbformat": 4,
  "nbformat_minor": 0,
  "metadata": {
    "colab": {
      "name": "Pandas_Function_Application_Lambda.ipynb",
      "provenance": []
    },
    "kernelspec": {
      "name": "python3",
      "display_name": "Python 3"
    },
    "language_info": {
      "name": "python"
    }
  },
  "cells": [
    {
      "cell_type": "code",
      "metadata": {
        "colab": {
          "base_uri": "https://localhost:8080/"
        },
        "id": "j-t2w8mxkqRx",
        "outputId": "2e39f97b-9324-4203-d13e-1fb1b94e8d83"
      },
      "source": [
        "import pandas as pd\n",
        "import numpy as np\n",
        "\n",
        "def adder(ele1,ele2):\n",
        "   return ele1+ele2\n",
        "\n",
        "df = pd.DataFrame(np.random.randn(5,3),columns=['c1','c2','c3'])\n",
        "print(df)\n",
        "print(\"printing the results of pipe\")\n",
        "print(df.pipe(adder,2))"
      ],
      "execution_count": 1,
      "outputs": [
        {
          "output_type": "stream",
          "name": "stdout",
          "text": [
            "         c1        c2        c3\n",
            "0 -0.933303  0.117170  0.391893\n",
            "1  0.937478 -0.098626 -0.700574\n",
            "2 -1.107867  0.537739  0.008770\n",
            "3 -0.726777 -0.552453  0.256430\n",
            "4  1.359929  0.654116 -0.003385\n",
            "printing the results of pipe\n",
            "         c1        c2        c3\n",
            "0  1.066697  2.117170  2.391893\n",
            "1  2.937478  1.901374  1.299426\n",
            "2  0.892133  2.537739  2.008770\n",
            "3  1.273223  1.447547  2.256430\n",
            "4  3.359929  2.654116  1.996615\n"
          ]
        }
      ]
    },
    {
      "cell_type": "code",
      "metadata": {
        "colab": {
          "base_uri": "https://localhost:8080/"
        },
        "id": "yu8fykknk5Ky",
        "outputId": "a7bc2fd0-98af-41e2-c59b-3b2019598e43"
      },
      "source": [
        "import pandas as pd\n",
        "import numpy as np\n",
        "\n",
        "def adder(ele1,ele2):\n",
        "   return ele1+ele2\n",
        "\n",
        "df1 = pd.DataFrame(np.random.randn(5,3),columns=['c1','c2','c3'])\n",
        "print(df1)\n",
        "print (df1.apply(np.mean))\n",
        "df2 = pd.DataFrame(np.random.randn(2,3),columns=['c1','c2','c3'])\n",
        "print(df2)\n",
        "print (df2.apply(np.mean))"
      ],
      "execution_count": 6,
      "outputs": [
        {
          "output_type": "stream",
          "name": "stdout",
          "text": [
            "         c1        c2        c3\n",
            "0  0.579966  1.137748  1.145436\n",
            "1  1.312848 -0.197587 -0.429141\n",
            "2  0.495760  0.236627 -0.540781\n",
            "3  0.223939 -0.406359  0.767736\n",
            "4 -0.971355 -1.081058  0.110931\n",
            "c1    0.328232\n",
            "c2   -0.062126\n",
            "c3    0.210836\n",
            "dtype: float64\n",
            "         c1       c2        c3\n",
            "0 -0.507356  1.24904 -0.569703\n",
            "1 -1.236281 -0.28415 -0.170698\n",
            "c1   -0.871819\n",
            "c2    0.482445\n",
            "c3   -0.370201\n",
            "dtype: float64\n"
          ]
        }
      ]
    },
    {
      "cell_type": "code",
      "metadata": {
        "colab": {
          "base_uri": "https://localhost:8080/"
        },
        "id": "b8bIZySXk7d7",
        "outputId": "7e952046-b733-488f-fcb2-49a7bb6e62e5"
      },
      "source": [
        "import pandas as pd\n",
        "import numpy as np\n",
        "\n",
        "df = pd.DataFrame(np.random.randn(5,3),columns=['c1','c2','c3'])\n",
        "print(df)\n",
        "\n",
        "print (df.apply(np.mean,axis=1))"
      ],
      "execution_count": 7,
      "outputs": [
        {
          "output_type": "stream",
          "name": "stdout",
          "text": [
            "         c1        c2        c3\n",
            "0 -0.306753  0.600233  0.642278\n",
            "1 -0.749741  0.785614 -1.038009\n",
            "2 -0.338513 -1.899524  0.284387\n",
            "3  0.392023  0.550296  0.513380\n",
            "4  1.196531 -0.687577  0.202707\n",
            "0    0.311919\n",
            "1   -0.334045\n",
            "2   -0.651217\n",
            "3    0.485233\n",
            "4    0.237220\n",
            "dtype: float64\n"
          ]
        }
      ]
    },
    {
      "cell_type": "code",
      "metadata": {
        "colab": {
          "base_uri": "https://localhost:8080/"
        },
        "id": "JneK9_-mk8yr",
        "outputId": "96e66fcc-4fc5-4c6c-8328-7ebfde7fdc43"
      },
      "source": [
        "import pandas as pd\n",
        "import numpy as np\n",
        "df = pd.DataFrame(np.random.randn(5,3),columns=['c1','c2','c3'])\n",
        "print(df)\n",
        "\n",
        "print(df['c1'].map(lambda x:x*100))\n",
        "print(df['c1'].map(lambda x:x*10))"
      ],
      "execution_count": 10,
      "outputs": [
        {
          "output_type": "stream",
          "name": "stdout",
          "text": [
            "         c1        c2        c3\n",
            "0  0.030570  2.009714  0.381442\n",
            "1  2.208307  0.699242  0.548603\n",
            "2  1.003058  1.515923  1.082319\n",
            "3 -0.790375 -2.421016  0.487418\n",
            "4  0.130189 -0.485246 -1.294610\n",
            "0      3.056959\n",
            "1    220.830654\n",
            "2    100.305830\n",
            "3    -79.037482\n",
            "4     13.018922\n",
            "Name: c1, dtype: float64\n",
            "0     0.305696\n",
            "1    22.083065\n",
            "2    10.030583\n",
            "3    -7.903748\n",
            "4     1.301892\n",
            "Name: c1, dtype: float64\n"
          ]
        }
      ]
    },
    {
      "cell_type": "code",
      "metadata": {
        "colab": {
          "base_uri": "https://localhost:8080/"
        },
        "id": "yDp6gX9Zk-OM",
        "outputId": "b2eb9db9-3e82-48b3-ddc4-9fbd0b31218a"
      },
      "source": [
        "df=pd.DataFrame({'id':[1,2,3,4],'name':['usha','nikhitha','asha','ria'],'age':[20,22,33,44], 'income':[1000000000,8888,7777,6666]})\n",
        "print(df)"
      ],
      "execution_count": 12,
      "outputs": [
        {
          "output_type": "stream",
          "name": "stdout",
          "text": [
            "   id      name  age      income\n",
            "0   1      usha   20  1000000000\n",
            "1   2  nikhitha   22        8888\n",
            "2   3      asha   33        7777\n",
            "3   4       ria   44        6666\n"
          ]
        }
      ]
    },
    {
      "cell_type": "code",
      "metadata": {
        "colab": {
          "base_uri": "https://localhost:8080/"
        },
        "id": "8OsokKbhk_4x",
        "outputId": "d8582efd-2f49-44a5-9801-95ae12729893"
      },
      "source": [
        "df['age']=df.apply(lambda x: x['age']+1, axis=1)\n",
        "print(df)"
      ],
      "execution_count": 14,
      "outputs": [
        {
          "output_type": "stream",
          "name": "stdout",
          "text": [
            "   id      name  age      income\n",
            "0   1      usha   24  1000000000\n",
            "1   2  nikhitha   26        8888\n",
            "2   3      asha   37        7777\n",
            "3   4       ria   48        6666\n"
          ]
        }
      ]
    },
    {
      "cell_type": "code",
      "metadata": {
        "colab": {
          "base_uri": "https://localhost:8080/"
        },
        "id": "nUWsi5_wlBHb",
        "outputId": "5ad3db87-ae3c-47a6-da7a-9738ec57740a"
      },
      "source": [
        "list(filter(lambda x:x>18, df['age']))"
      ],
      "execution_count": 15,
      "outputs": [
        {
          "output_type": "execute_result",
          "data": {
            "text/plain": [
              "[24, 26, 37, 48]"
            ]
          },
          "metadata": {},
          "execution_count": 15
        }
      ]
    },
    {
      "cell_type": "code",
      "metadata": {
        "colab": {
          "base_uri": "https://localhost:8080/"
        },
        "id": "rsJ8djxIlCc7",
        "outputId": "bf12a7ba-0e5a-4d11-c000-d134d88db2a3"
      },
      "source": [
        "df['income']=list(map(lambda x: int(x+x*0.8), df['income']))\n",
        "print(df)"
      ],
      "execution_count": 17,
      "outputs": [
        {
          "output_type": "stream",
          "name": "stdout",
          "text": [
            "   id      name  age      income\n",
            "0   1      usha   24  2160000000\n",
            "1   2  nikhitha   26       19197\n",
            "2   3      asha   37       16797\n",
            "3   4       ria   48       14398\n"
          ]
        }
      ]
    },
    {
      "cell_type": "code",
      "metadata": {
        "colab": {
          "base_uri": "https://localhost:8080/"
        },
        "id": "zdY6lvsBlD3T",
        "outputId": "66dc757f-0f43-4b44-f0ea-75b4b6e5dc53"
      },
      "source": [
        "import functools\n",
        "functools.reduce(lambda a,b: a+b, df['income'])"
      ],
      "execution_count": 18,
      "outputs": [
        {
          "output_type": "execute_result",
          "data": {
            "text/plain": [
              "2160050392"
            ]
          },
          "metadata": {},
          "execution_count": 18
        }
      ]
    },
    {
      "cell_type": "code",
      "metadata": {
        "colab": {
          "base_uri": "https://localhost:8080/"
        },
        "id": "YlQBrjdUlFeX",
        "outputId": "6c4b292d-2ba6-4ffb-8396-d538604098d5"
      },
      "source": [
        "df['category']=df['age'].apply(lambda x: 'Adult' if x>=18 else 'Child')\n",
        "print(df)"
      ],
      "execution_count": 19,
      "outputs": [
        {
          "output_type": "stream",
          "name": "stdout",
          "text": [
            "   id      name  age      income category\n",
            "0   1      usha   24  2160000000    Adult\n",
            "1   2  nikhitha   26       19197    Adult\n",
            "2   3      asha   37       16797    Adult\n",
            "3   4       ria   48       14398    Adult\n"
          ]
        }
      ]
    }
  ]
}