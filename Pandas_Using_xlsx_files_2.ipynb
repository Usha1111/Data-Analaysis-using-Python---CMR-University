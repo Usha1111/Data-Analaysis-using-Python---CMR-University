{
  "nbformat": 4,
  "nbformat_minor": 0,
  "metadata": {
    "colab": {
      "name": "Pandas_Using_xlsx_files.ipynb",
      "provenance": []
    },
    "kernelspec": {
      "name": "python3",
      "display_name": "Python 3"
    },
    "language_info": {
      "name": "python"
    }
  },
  "cells": [
    {
      "cell_type": "code",
      "metadata": {
        "colab": {
          "base_uri": "https://localhost:8080/"
        },
        "id": "HlULTy9B9UR7",
        "outputId": "185919f4-bbed-42b5-e85d-3a6a616e2c8d"
      },
      "source": [
        "import pandas as pd\n",
        "d=pd.read_excel(\"missing.xlsx\")\n",
        "df=pd.DataFrame(d)\n",
        "print(df)"
      ],
      "execution_count": 1,
      "outputs": [
        {
          "output_type": "stream",
          "name": "stdout",
          "text": [
            "   S.No.      Name   Eng  Maths   Sci  Total\n",
            "0      1       ali   NaN   56.0  77.0    133\n",
            "1      2  nivedita  35.0   66.0  79.0    180\n",
            "2      3   saksham  36.0    NaN  81.0    117\n",
            "3      4     sonia  37.0   86.0  83.0    206\n",
            "4      5      abhi  38.0   96.0   NaN    134\n",
            "5      6     rahul  39.0    NaN  87.0    126\n",
            "6      7      abhi  40.0  116.0  89.0    245\n"
          ]
        }
      ]
    },
    {
      "cell_type": "markdown",
      "metadata": {
        "id": "Z5keTh-W92Ts"
      },
      "source": [
        "import pandas as pd\n",
        "d=pd.read_excel(\"C:\\\\Users\\Usha\\Desktop\\missing.xlsx\")\n",
        "\n",
        "The aboove code can be used to access excel file from the computer's files or any folders\n"
      ]
    },
    {
      "cell_type": "code",
      "metadata": {
        "colab": {
          "base_uri": "https://localhost:8080/",
          "height": 143
        },
        "id": "GTVitHQ_9WE1",
        "outputId": "07be4700-6ce9-401b-8e43-7ed4348ec6a2"
      },
      "source": [
        "df.dropna()"
      ],
      "execution_count": 2,
      "outputs": [
        {
          "output_type": "execute_result",
          "data": {
            "text/html": [
              "<div>\n",
              "<style scoped>\n",
              "    .dataframe tbody tr th:only-of-type {\n",
              "        vertical-align: middle;\n",
              "    }\n",
              "\n",
              "    .dataframe tbody tr th {\n",
              "        vertical-align: top;\n",
              "    }\n",
              "\n",
              "    .dataframe thead th {\n",
              "        text-align: right;\n",
              "    }\n",
              "</style>\n",
              "<table border=\"1\" class=\"dataframe\">\n",
              "  <thead>\n",
              "    <tr style=\"text-align: right;\">\n",
              "      <th></th>\n",
              "      <th>S.No.</th>\n",
              "      <th>Name</th>\n",
              "      <th>Eng</th>\n",
              "      <th>Maths</th>\n",
              "      <th>Sci</th>\n",
              "      <th>Total</th>\n",
              "    </tr>\n",
              "  </thead>\n",
              "  <tbody>\n",
              "    <tr>\n",
              "      <th>1</th>\n",
              "      <td>2</td>\n",
              "      <td>nivedita</td>\n",
              "      <td>35.0</td>\n",
              "      <td>66.0</td>\n",
              "      <td>79.0</td>\n",
              "      <td>180</td>\n",
              "    </tr>\n",
              "    <tr>\n",
              "      <th>3</th>\n",
              "      <td>4</td>\n",
              "      <td>sonia</td>\n",
              "      <td>37.0</td>\n",
              "      <td>86.0</td>\n",
              "      <td>83.0</td>\n",
              "      <td>206</td>\n",
              "    </tr>\n",
              "    <tr>\n",
              "      <th>6</th>\n",
              "      <td>7</td>\n",
              "      <td>abhi</td>\n",
              "      <td>40.0</td>\n",
              "      <td>116.0</td>\n",
              "      <td>89.0</td>\n",
              "      <td>245</td>\n",
              "    </tr>\n",
              "  </tbody>\n",
              "</table>\n",
              "</div>"
            ],
            "text/plain": [
              "   S.No.      Name   Eng  Maths   Sci  Total\n",
              "1      2  nivedita  35.0   66.0  79.0    180\n",
              "3      4     sonia  37.0   86.0  83.0    206\n",
              "6      7      abhi  40.0  116.0  89.0    245"
            ]
          },
          "metadata": {},
          "execution_count": 2
        }
      ]
    },
    {
      "cell_type": "code",
      "metadata": {
        "colab": {
          "base_uri": "https://localhost:8080/"
        },
        "id": "nATnWA_c9X6n",
        "outputId": "077f79d2-3ef1-4fd0-d7a2-047486d629c1"
      },
      "source": [
        "\n",
        "df=pd.DataFrame(d)\n",
        "print(df)\n",
        "\n"
      ],
      "execution_count": 4,
      "outputs": [
        {
          "output_type": "stream",
          "name": "stdout",
          "text": [
            "   S.No.      Name   Eng  Maths   Sci  Total\n",
            "0      1       ali   NaN   56.0  77.0    133\n",
            "1      2  nivedita  35.0   66.0  79.0    180\n",
            "2      3   saksham  36.0    NaN  81.0    117\n",
            "3      4     sonia  37.0   86.0  83.0    206\n",
            "4      5      abhi  38.0   96.0   NaN    134\n",
            "5      6     rahul  39.0    NaN  87.0    126\n",
            "6      7      abhi  40.0  116.0  89.0    245\n"
          ]
        }
      ]
    },
    {
      "cell_type": "code",
      "metadata": {
        "colab": {
          "base_uri": "https://localhost:8080/"
        },
        "id": "vKs2UBxB9Zvs",
        "outputId": "ca104bbb-0ad0-4d1f-ba9a-f12df96cabd2"
      },
      "source": [
        "df['Name'].dropna()"
      ],
      "execution_count": 5,
      "outputs": [
        {
          "output_type": "execute_result",
          "data": {
            "text/plain": [
              "0         ali\n",
              "1    nivedita\n",
              "2     saksham\n",
              "3       sonia\n",
              "4        abhi\n",
              "5       rahul\n",
              "6        abhi\n",
              "Name: Name, dtype: object"
            ]
          },
          "metadata": {},
          "execution_count": 5
        }
      ]
    },
    {
      "cell_type": "code",
      "metadata": {
        "colab": {
          "base_uri": "https://localhost:8080/"
        },
        "id": "PSmweTsb9bOD",
        "outputId": "45dee991-3d8c-4733-980c-6306a28ec329"
      },
      "source": [
        "\n",
        "df=pd.DataFrame(d)\n",
        "print(df)"
      ],
      "execution_count": 6,
      "outputs": [
        {
          "output_type": "stream",
          "name": "stdout",
          "text": [
            "   S.No.      Name   Eng  Maths   Sci  Total\n",
            "0      1       ali   NaN   56.0  77.0    133\n",
            "1      2  nivedita  35.0   66.0  79.0    180\n",
            "2      3   saksham  36.0    NaN  81.0    117\n",
            "3      4     sonia  37.0   86.0  83.0    206\n",
            "4      5      abhi  38.0   96.0   NaN    134\n",
            "5      6     rahul  39.0    NaN  87.0    126\n",
            "6      7      abhi  40.0  116.0  89.0    245\n"
          ]
        }
      ]
    },
    {
      "cell_type": "code",
      "metadata": {
        "colab": {
          "base_uri": "https://localhost:8080/",
          "height": 238
        },
        "id": "U2bEPehL9dJZ",
        "outputId": "ac42840e-3125-4b4b-d4de-af804c015655"
      },
      "source": [
        "df.loc[:,['Name','Eng']].dropna()"
      ],
      "execution_count": 7,
      "outputs": [
        {
          "output_type": "execute_result",
          "data": {
            "text/html": [
              "<div>\n",
              "<style scoped>\n",
              "    .dataframe tbody tr th:only-of-type {\n",
              "        vertical-align: middle;\n",
              "    }\n",
              "\n",
              "    .dataframe tbody tr th {\n",
              "        vertical-align: top;\n",
              "    }\n",
              "\n",
              "    .dataframe thead th {\n",
              "        text-align: right;\n",
              "    }\n",
              "</style>\n",
              "<table border=\"1\" class=\"dataframe\">\n",
              "  <thead>\n",
              "    <tr style=\"text-align: right;\">\n",
              "      <th></th>\n",
              "      <th>Name</th>\n",
              "      <th>Eng</th>\n",
              "    </tr>\n",
              "  </thead>\n",
              "  <tbody>\n",
              "    <tr>\n",
              "      <th>1</th>\n",
              "      <td>nivedita</td>\n",
              "      <td>35.0</td>\n",
              "    </tr>\n",
              "    <tr>\n",
              "      <th>2</th>\n",
              "      <td>saksham</td>\n",
              "      <td>36.0</td>\n",
              "    </tr>\n",
              "    <tr>\n",
              "      <th>3</th>\n",
              "      <td>sonia</td>\n",
              "      <td>37.0</td>\n",
              "    </tr>\n",
              "    <tr>\n",
              "      <th>4</th>\n",
              "      <td>abhi</td>\n",
              "      <td>38.0</td>\n",
              "    </tr>\n",
              "    <tr>\n",
              "      <th>5</th>\n",
              "      <td>rahul</td>\n",
              "      <td>39.0</td>\n",
              "    </tr>\n",
              "    <tr>\n",
              "      <th>6</th>\n",
              "      <td>abhi</td>\n",
              "      <td>40.0</td>\n",
              "    </tr>\n",
              "  </tbody>\n",
              "</table>\n",
              "</div>"
            ],
            "text/plain": [
              "       Name   Eng\n",
              "1  nivedita  35.0\n",
              "2   saksham  36.0\n",
              "3     sonia  37.0\n",
              "4      abhi  38.0\n",
              "5     rahul  39.0\n",
              "6      abhi  40.0"
            ]
          },
          "metadata": {},
          "execution_count": 7
        }
      ]
    },
    {
      "cell_type": "code",
      "metadata": {
        "colab": {
          "base_uri": "https://localhost:8080/"
        },
        "id": "XG576JBT9eiP",
        "outputId": "a6ef08e7-12a5-4a84-89b6-36c8b9fb3bb1"
      },
      "source": [
        "\n",
        "df=pd.DataFrame(d)\n",
        "print(df)"
      ],
      "execution_count": 8,
      "outputs": [
        {
          "output_type": "stream",
          "name": "stdout",
          "text": [
            "   S.No.      Name   Eng  Maths   Sci  Total\n",
            "0      1       ali   NaN   56.0  77.0    133\n",
            "1      2  nivedita  35.0   66.0  79.0    180\n",
            "2      3   saksham  36.0    NaN  81.0    117\n",
            "3      4     sonia  37.0   86.0  83.0    206\n",
            "4      5      abhi  38.0   96.0   NaN    134\n",
            "5      6     rahul  39.0    NaN  87.0    126\n",
            "6      7      abhi  40.0  116.0  89.0    245\n"
          ]
        }
      ]
    },
    {
      "cell_type": "code",
      "metadata": {
        "colab": {
          "base_uri": "https://localhost:8080/",
          "height": 269
        },
        "id": "Vfbh1W-79enQ",
        "outputId": "fca21580-f991-4f6e-fea0-170dd5c40a7d"
      },
      "source": [
        "df.fillna(\"*\")\n"
      ],
      "execution_count": 9,
      "outputs": [
        {
          "output_type": "execute_result",
          "data": {
            "text/html": [
              "<div>\n",
              "<style scoped>\n",
              "    .dataframe tbody tr th:only-of-type {\n",
              "        vertical-align: middle;\n",
              "    }\n",
              "\n",
              "    .dataframe tbody tr th {\n",
              "        vertical-align: top;\n",
              "    }\n",
              "\n",
              "    .dataframe thead th {\n",
              "        text-align: right;\n",
              "    }\n",
              "</style>\n",
              "<table border=\"1\" class=\"dataframe\">\n",
              "  <thead>\n",
              "    <tr style=\"text-align: right;\">\n",
              "      <th></th>\n",
              "      <th>S.No.</th>\n",
              "      <th>Name</th>\n",
              "      <th>Eng</th>\n",
              "      <th>Maths</th>\n",
              "      <th>Sci</th>\n",
              "      <th>Total</th>\n",
              "    </tr>\n",
              "  </thead>\n",
              "  <tbody>\n",
              "    <tr>\n",
              "      <th>0</th>\n",
              "      <td>1</td>\n",
              "      <td>ali</td>\n",
              "      <td>*</td>\n",
              "      <td>56</td>\n",
              "      <td>77</td>\n",
              "      <td>133</td>\n",
              "    </tr>\n",
              "    <tr>\n",
              "      <th>1</th>\n",
              "      <td>2</td>\n",
              "      <td>nivedita</td>\n",
              "      <td>35</td>\n",
              "      <td>66</td>\n",
              "      <td>79</td>\n",
              "      <td>180</td>\n",
              "    </tr>\n",
              "    <tr>\n",
              "      <th>2</th>\n",
              "      <td>3</td>\n",
              "      <td>saksham</td>\n",
              "      <td>36</td>\n",
              "      <td>*</td>\n",
              "      <td>81</td>\n",
              "      <td>117</td>\n",
              "    </tr>\n",
              "    <tr>\n",
              "      <th>3</th>\n",
              "      <td>4</td>\n",
              "      <td>sonia</td>\n",
              "      <td>37</td>\n",
              "      <td>86</td>\n",
              "      <td>83</td>\n",
              "      <td>206</td>\n",
              "    </tr>\n",
              "    <tr>\n",
              "      <th>4</th>\n",
              "      <td>5</td>\n",
              "      <td>abhi</td>\n",
              "      <td>38</td>\n",
              "      <td>96</td>\n",
              "      <td>*</td>\n",
              "      <td>134</td>\n",
              "    </tr>\n",
              "    <tr>\n",
              "      <th>5</th>\n",
              "      <td>6</td>\n",
              "      <td>rahul</td>\n",
              "      <td>39</td>\n",
              "      <td>*</td>\n",
              "      <td>87</td>\n",
              "      <td>126</td>\n",
              "    </tr>\n",
              "    <tr>\n",
              "      <th>6</th>\n",
              "      <td>7</td>\n",
              "      <td>abhi</td>\n",
              "      <td>40</td>\n",
              "      <td>116</td>\n",
              "      <td>89</td>\n",
              "      <td>245</td>\n",
              "    </tr>\n",
              "  </tbody>\n",
              "</table>\n",
              "</div>"
            ],
            "text/plain": [
              "   S.No.      Name Eng Maths Sci  Total\n",
              "0      1       ali   *    56  77    133\n",
              "1      2  nivedita  35    66  79    180\n",
              "2      3   saksham  36     *  81    117\n",
              "3      4     sonia  37    86  83    206\n",
              "4      5      abhi  38    96   *    134\n",
              "5      6     rahul  39     *  87    126\n",
              "6      7      abhi  40   116  89    245"
            ]
          },
          "metadata": {},
          "execution_count": 9
        }
      ]
    },
    {
      "cell_type": "code",
      "metadata": {
        "colab": {
          "base_uri": "https://localhost:8080/"
        },
        "id": "AxVPDn-29iY4",
        "outputId": "319c80e1-0bb0-4c40-f24d-2a7302b4bb7f"
      },
      "source": [
        "df['Eng'].fillna(33)\n"
      ],
      "execution_count": 10,
      "outputs": [
        {
          "output_type": "execute_result",
          "data": {
            "text/plain": [
              "0    33.0\n",
              "1    35.0\n",
              "2    36.0\n",
              "3    37.0\n",
              "4    38.0\n",
              "5    39.0\n",
              "6    40.0\n",
              "Name: Eng, dtype: float64"
            ]
          },
          "metadata": {},
          "execution_count": 10
        }
      ]
    }
  ]
}