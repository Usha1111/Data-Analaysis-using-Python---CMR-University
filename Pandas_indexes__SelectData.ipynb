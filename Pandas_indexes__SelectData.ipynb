{
  "nbformat": 4,
  "nbformat_minor": 0,
  "metadata": {
    "colab": {
      "name": "Pandas_indexes _SelectData.ipynb",
      "provenance": []
    },
    "kernelspec": {
      "name": "python3",
      "display_name": "Python 3"
    },
    "language_info": {
      "name": "python"
    }
  },
  "cells": [
    {
      "cell_type": "code",
      "metadata": {
        "colab": {
          "base_uri": "https://localhost:8080/"
        },
        "id": "1ZiXBAmo_j7b",
        "outputId": "a0045e6e-aede-419d-da12-46486faf7d93"
      },
      "source": [
        "#import the pandas library and aliasing as pd\n",
        "import pandas as pd\n",
        "import numpy as np\n",
        "\n",
        "df = pd.DataFrame(np.random.randn(5, 3),\n",
        "index = ['a','b','c','d','e'], columns = ['A', 'B', 'C'])\n",
        "\n",
        "#select all rows for a specific column\n",
        "print (df.loc[:,'A'])"
      ],
      "execution_count": 3,
      "outputs": [
        {
          "output_type": "stream",
          "name": "stdout",
          "text": [
            "a   -0.665109\n",
            "b   -1.443821\n",
            "c    0.440546\n",
            "d    0.661402\n",
            "e   -0.703512\n",
            "Name: A, dtype: float64\n"
          ]
        }
      ]
    },
    {
      "cell_type": "code",
      "metadata": {
        "colab": {
          "base_uri": "https://localhost:8080/"
        },
        "id": "rC_aaPTk_vCl",
        "outputId": "fafb2b1f-9f95-4fb8-81ab-44435556b432"
      },
      "source": [
        "import pandas as pd\n",
        "import numpy as np\n",
        "\n",
        "df = pd.DataFrame(np.random.randn(5, 3),\n",
        "index = ['a','b','c','d','e'], columns = ['A', 'B', 'C'])\n",
        "\n",
        "# Select all rows for multiple columns, say list[]\n",
        "print (df.loc[:,['A','C']])"
      ],
      "execution_count": 4,
      "outputs": [
        {
          "output_type": "stream",
          "name": "stdout",
          "text": [
            "          A         C\n",
            "a -0.527509  1.108761\n",
            "b -0.452485  2.443515\n",
            "c -0.209168 -0.584423\n",
            "d  1.138484 -0.414744\n",
            "e -0.668909  0.561766\n"
          ]
        }
      ]
    },
    {
      "cell_type": "code",
      "metadata": {
        "colab": {
          "base_uri": "https://localhost:8080/"
        },
        "id": "CuudRDkn_wMS",
        "outputId": "e57e8c61-7a61-4d94-e0d9-b1128e395584"
      },
      "source": [
        "import pandas as pd\n",
        "import numpy as np\n",
        "\n",
        "df = pd.DataFrame(np.random.randn(5, 3),\n",
        "index = ['a','b','c','d','e'], columns = ['A', 'B', 'C'])\n",
        "print (df.loc[['a','b'],['A','C']])"
      ],
      "execution_count": 5,
      "outputs": [
        {
          "output_type": "stream",
          "name": "stdout",
          "text": [
            "          A         C\n",
            "a  0.072624  1.755844\n",
            "b -0.583822 -0.364550\n"
          ]
        }
      ]
    },
    {
      "cell_type": "code",
      "metadata": {
        "colab": {
          "base_uri": "https://localhost:8080/"
        },
        "id": "5CjPDOL5_xnj",
        "outputId": "dff51627-7587-4835-a130-c7aaa8cc96bc"
      },
      "source": [
        "import pandas as pd\n",
        "import numpy as np\n",
        "\n",
        "df = pd.DataFrame(np.random.randn(5, 3),\n",
        "index = ['a','b','c','d','e'], columns = ['A', 'B', 'C'])\n",
        "print (df.loc['a':'d'])"
      ],
      "execution_count": 6,
      "outputs": [
        {
          "output_type": "stream",
          "name": "stdout",
          "text": [
            "          A         B         C\n",
            "a -0.197311 -0.457245 -1.701369\n",
            "b  0.177582  0.626580 -0.838562\n",
            "c  0.000729 -0.180510 -0.451041\n",
            "d  1.819391  0.584399 -3.013356\n"
          ]
        }
      ]
    },
    {
      "cell_type": "code",
      "metadata": {
        "colab": {
          "base_uri": "https://localhost:8080/"
        },
        "id": "Ojppu48G_zzP",
        "outputId": "614c7fa4-6f6f-440c-9f8a-0a0c63c74f80"
      },
      "source": [
        "import pandas as pd\n",
        "import numpy as np\n",
        "df = pd.DataFrame(np.random.randn(5, 3),\n",
        "index = ['a','b','c','d','e'], columns = ['A', 'B', 'C'])\n",
        "print(df)\n",
        "\n",
        "# for getting values with a boolean array\n",
        "print (df.loc['a']>0)"
      ],
      "execution_count": 7,
      "outputs": [
        {
          "output_type": "stream",
          "name": "stdout",
          "text": [
            "          A         B         C\n",
            "a -0.061045 -0.471060  0.741170\n",
            "b -1.706108  0.015694 -0.815887\n",
            "c -0.330492  0.496074  0.611461\n",
            "d -2.443334 -1.049752  0.374637\n",
            "e -1.145550  0.580222  1.150154\n",
            "A    False\n",
            "B    False\n",
            "C     True\n",
            "Name: a, dtype: bool\n"
          ]
        }
      ]
    },
    {
      "cell_type": "code",
      "metadata": {
        "colab": {
          "base_uri": "https://localhost:8080/"
        },
        "id": "Ae27gK7e_1J2",
        "outputId": "d5d8c6a7-f2ba-46df-8ce8-18eb300eb982"
      },
      "source": [
        "# import the pandas library and aliasing as pd\n",
        "import pandas as pd\n",
        "import numpy as np\n",
        "\n",
        "df = pd.DataFrame(np.random.randn(5, 3), columns = ['A', 'B', 'C'])\n",
        "print(df)\n",
        "\n",
        "print (df.iloc[:4])"
      ],
      "execution_count": 8,
      "outputs": [
        {
          "output_type": "stream",
          "name": "stdout",
          "text": [
            "          A         B         C\n",
            "0  0.771697 -1.726268  1.197717\n",
            "1  0.304943 -2.092660  0.909584\n",
            "2 -0.965558  1.372964 -1.699553\n",
            "3  2.057966  0.113067  0.076613\n",
            "4 -0.571966 -0.870322  0.630094\n",
            "          A         B         C\n",
            "0  0.771697 -1.726268  1.197717\n",
            "1  0.304943 -2.092660  0.909584\n",
            "2 -0.965558  1.372964 -1.699553\n",
            "3  2.057966  0.113067  0.076613\n"
          ]
        }
      ]
    },
    {
      "cell_type": "code",
      "metadata": {
        "colab": {
          "base_uri": "https://localhost:8080/"
        },
        "id": "qB2u7xmk_2bP",
        "outputId": "d4050465-ffd5-4669-df68-ba56d0172d6f"
      },
      "source": [
        "import pandas as pd\n",
        "import numpy as np\n",
        "df = pd.DataFrame(np.random.randn(5, 3), columns = ['A', 'B', 'C'])\n",
        "print(df)\n",
        "\n",
        "# Integer slicing\n",
        "print (df.iloc[:3])\n",
        "print (df.iloc[1:3, 2:5])"
      ],
      "execution_count": 11,
      "outputs": [
        {
          "output_type": "stream",
          "name": "stdout",
          "text": [
            "          A         B         C\n",
            "0  0.963039 -1.372216 -0.446774\n",
            "1  1.724143  0.241703  0.115638\n",
            "2 -0.138661 -1.563341 -2.222232\n",
            "3 -0.543850 -0.534950  0.257680\n",
            "4 -0.992045 -1.662512  0.430714\n",
            "          A         B         C\n",
            "0  0.963039 -1.372216 -0.446774\n",
            "1  1.724143  0.241703  0.115638\n",
            "2 -0.138661 -1.563341 -2.222232\n",
            "          C\n",
            "1  0.115638\n",
            "2 -2.222232\n"
          ]
        }
      ]
    },
    {
      "cell_type": "code",
      "metadata": {
        "colab": {
          "base_uri": "https://localhost:8080/"
        },
        "id": "jtZJXgO8_3y4",
        "outputId": "e877cf28-53c8-4a7c-b8c8-27ecc92bdd7a"
      },
      "source": [
        "import pandas as pd\n",
        "import numpy as np\n",
        "\n",
        "df = pd.DataFrame(np.random.randn(5, 3), columns = ['A', 'B', 'C'])\n",
        "print(df)\n",
        "\n",
        "# Slicing through list of values\n",
        "print (df.iloc[[1, 2, 4], [1, 2]])\n",
        "print (df.iloc[1:3, :])\n",
        "print (df.iloc[:,1:3])"
      ],
      "execution_count": 12,
      "outputs": [
        {
          "output_type": "stream",
          "name": "stdout",
          "text": [
            "          A         B         C\n",
            "0 -2.627768  0.560637  1.113375\n",
            "1 -1.527195  0.543555  0.386056\n",
            "2  0.748412 -0.731597  1.049115\n",
            "3  1.327212  2.574921  1.420977\n",
            "4 -0.236860  0.490221 -1.422375\n",
            "          B         C\n",
            "1  0.543555  0.386056\n",
            "2 -0.731597  1.049115\n",
            "4  0.490221 -1.422375\n",
            "          A         B         C\n",
            "1 -1.527195  0.543555  0.386056\n",
            "2  0.748412 -0.731597  1.049115\n",
            "          B         C\n",
            "0  0.560637  1.113375\n",
            "1  0.543555  0.386056\n",
            "2 -0.731597  1.049115\n",
            "3  2.574921  1.420977\n",
            "4  0.490221 -1.422375\n"
          ]
        }
      ]
    }
  ]
}