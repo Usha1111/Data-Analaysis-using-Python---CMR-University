{
  "nbformat": 4,
  "nbformat_minor": 0,
  "metadata": {
    "colab": {
      "name": "DataFrames.ipynb",
      "provenance": []
    },
    "kernelspec": {
      "name": "python3",
      "display_name": "Python 3"
    },
    "language_info": {
      "name": "python"
    }
  },
  "cells": [
    {
      "cell_type": "code",
      "metadata": {
        "colab": {
          "base_uri": "https://localhost:8080/"
        },
        "id": "8bFeWVt4bX1K",
        "outputId": "b8fc465b-38ad-4337-8bec-e5140482a054"
      },
      "source": [
        "import pandas as pd\n",
        "data = [1,2,3,4]\n",
        "df = pd.DataFrame(data)\n",
        "print (df)"
      ],
      "execution_count": null,
      "outputs": [
        {
          "output_type": "stream",
          "name": "stdout",
          "text": [
            "   0\n",
            "0  1\n",
            "1  2\n",
            "2  3\n",
            "3  4\n"
          ]
        }
      ]
    },
    {
      "cell_type": "code",
      "metadata": {
        "colab": {
          "base_uri": "https://localhost:8080/"
        },
        "id": "J6kA6yFCbpDb",
        "outputId": "1b1da62a-1cd4-4059-924f-1c9c49ea57e8"
      },
      "source": [
        "import pandas as pd\n",
        "data = [['Usha',1],['Asha',2],['Nisha',3]]\n",
        "df = pd.DataFrame(data,columns=['Name','Age'])\n",
        "print (df)"
      ],
      "execution_count": null,
      "outputs": [
        {
          "output_type": "stream",
          "name": "stdout",
          "text": [
            "    Name  Age\n",
            "0   Usha    1\n",
            "1   Asha    2\n",
            "2  Nisha    3\n"
          ]
        }
      ]
    },
    {
      "cell_type": "code",
      "metadata": {
        "colab": {
          "base_uri": "https://localhost:8080/"
        },
        "id": "JeiBYorXb2ny",
        "outputId": "bb9fbb5f-4e6a-4cfb-e829-d469f8ee1419"
      },
      "source": [
        "import pandas as pd\n",
        "data = [['Usha',1],['Asha',2],['Nisha',3]]\n",
        "df = pd.DataFrame(data,columns=['Name','Age'])\n",
        "print (df)"
      ],
      "execution_count": null,
      "outputs": [
        {
          "output_type": "stream",
          "name": "stdout",
          "text": [
            "    Name  Age\n",
            "0   Usha    1\n",
            "1   Asha    2\n",
            "2  Nisha    3\n"
          ]
        }
      ]
    },
    {
      "cell_type": "code",
      "metadata": {
        "colab": {
          "base_uri": "https://localhost:8080/"
        },
        "id": "JlkJPlt2b8cH",
        "outputId": "d2d00172-d421-49c1-d7b4-0889562f559c"
      },
      "source": [
        "import pandas as pd\n",
        "data = {'Name':['Usha', 'Asha', 'Nisha'],'Age':[20, 21, 22]}\n",
        "df = pd.DataFrame(data)\n",
        "print (df)"
      ],
      "execution_count": null,
      "outputs": [
        {
          "output_type": "stream",
          "name": "stdout",
          "text": [
            "    Name  Age\n",
            "0   Usha   20\n",
            "1   Asha   21\n",
            "2  Nisha   22\n"
          ]
        }
      ]
    },
    {
      "cell_type": "code",
      "metadata": {
        "colab": {
          "base_uri": "https://localhost:8080/"
        },
        "id": "XeMUtTz5cE12",
        "outputId": "a9c6f9f0-75ff-45b4-f3d9-0557e3aace57"
      },
      "source": [
        "import pandas as pd\n",
        "data = {'Name':['Usha', 'Asha', 'Nisha'],'Age':[20, 21, 22]}\n",
        "df = pd.DataFrame(data, index=['rank1','rank2','rank3'])\n",
        "print (df)"
      ],
      "execution_count": null,
      "outputs": [
        {
          "output_type": "stream",
          "name": "stdout",
          "text": [
            "        Name  Age\n",
            "rank1   Usha   20\n",
            "rank2   Asha   21\n",
            "rank3  Nisha   22\n"
          ]
        }
      ]
    },
    {
      "cell_type": "code",
      "metadata": {
        "colab": {
          "base_uri": "https://localhost:8080/"
        },
        "id": "86hQRpn2ciAT",
        "outputId": "96151e02-8050-48f0-8448-c3be75a17a3f"
      },
      "source": [
        "import pandas as pd\n",
        "data = [{'a': 10, 'b': 20},{'a': 50, 'b': 10}]\n",
        "df = pd.DataFrame(data)\n",
        "print (df)"
      ],
      "execution_count": 1,
      "outputs": [
        {
          "output_type": "stream",
          "name": "stdout",
          "text": [
            "    a   b\n",
            "0  10  20\n",
            "1  50  10\n"
          ]
        }
      ]
    },
    {
      "cell_type": "code",
      "metadata": {
        "id": "Sjyruv9XcoAu",
        "colab": {
          "base_uri": "https://localhost:8080/"
        },
        "outputId": "afbb2e4a-2978-41e9-93df-4bd7db0f7381"
      },
      "source": [
        "import pandas as pd\n",
        "data = [{'a': 10, 'b': 20},{'a': 50, 'b': 10, 'c': 20}]\n",
        "\n",
        "#two column indices, values same as dictionary keys\n",
        "df1 = pd.DataFrame(data, index=['first', 'second'], columns=['a', 'b'])\n",
        "\n",
        "#With two column indices with one index with other name\n",
        "df2 = pd.DataFrame(data, index=['first', 'second'], columns=['a', 'b1'])\n",
        "print (df1)\n",
        "print (df2)"
      ],
      "execution_count": 2,
      "outputs": [
        {
          "output_type": "stream",
          "name": "stdout",
          "text": [
            "         a   b\n",
            "first   10  20\n",
            "second  50  10\n",
            "         a  b1\n",
            "first   10 NaN\n",
            "second  50 NaN\n"
          ]
        }
      ]
    },
    {
      "cell_type": "code",
      "metadata": {
        "colab": {
          "base_uri": "https://localhost:8080/"
        },
        "id": "OOaubOuAG1Hx",
        "outputId": "fd60b113-6b8a-4328-db8b-f9affa90e7b4"
      },
      "source": [
        "import pandas as pd\n",
        "\n",
        "d = {'one' : pd.Series([1, 2, 3], index=['a', 'b', 'c']),\n",
        "   'two' : pd.Series([1, 2, 3, 4], index=['a', 'b', 'c', 'd']),\n",
        "   'three' : pd.Series([1,2], index=['a', 'b'])}\n",
        "\n",
        "df = pd.DataFrame(d)\n",
        "print (df)"
      ],
      "execution_count": 5,
      "outputs": [
        {
          "output_type": "stream",
          "name": "stdout",
          "text": [
            "   one  two  three\n",
            "a  1.0    1    1.0\n",
            "b  2.0    2    2.0\n",
            "c  3.0    3    NaN\n",
            "d  NaN    4    NaN\n"
          ]
        }
      ]
    },
    {
      "cell_type": "code",
      "metadata": {
        "colab": {
          "base_uri": "https://localhost:8080/"
        },
        "id": "jxnh-PoyHMrr",
        "outputId": "ee28d6f6-840a-473a-ef90-30d2571e4df4"
      },
      "source": [
        "import pandas as pd\n",
        "\n",
        "d = {'one' : pd.Series([1, 2, 3], index=['a', 'b', 'c']),\n",
        "   'two' : pd.Series([1, 2, 3, 4], index=['a', 'b', 'c', 'd']),\n",
        "   'three' : pd.Series([1,2], index=['a', 'b'])}\n",
        "\n",
        "df = pd.DataFrame(d)\n",
        "print (df['one'])"
      ],
      "execution_count": 6,
      "outputs": [
        {
          "output_type": "stream",
          "name": "stdout",
          "text": [
            "a    1.0\n",
            "b    2.0\n",
            "c    3.0\n",
            "d    NaN\n",
            "Name: one, dtype: float64\n"
          ]
        }
      ]
    },
    {
      "cell_type": "code",
      "metadata": {
        "colab": {
          "base_uri": "https://localhost:8080/"
        },
        "id": "9pPr8Z6jHa-V",
        "outputId": "9fa45703-433f-4c1a-8205-c5f054d2913d"
      },
      "source": [
        "import pandas as pd\n",
        "\n",
        "d = {'one' : pd.Series([1, 2, 3], index=['a', 'b', 'c']),\n",
        "   'two' : pd.Series([1, 2, 3, 4], index=['a', 'b', 'c', 'd']),\n",
        "   'three' : pd.Series([1,2], index=['a', 'b'])}\n",
        "\n",
        "df = pd.DataFrame(d)\n",
        "print (df['one'])"
      ],
      "execution_count": 8,
      "outputs": [
        {
          "output_type": "stream",
          "name": "stdout",
          "text": [
            "a    1.0\n",
            "b    2.0\n",
            "c    3.0\n",
            "d    NaN\n",
            "Name: one, dtype: float64\n"
          ]
        }
      ]
    },
    {
      "cell_type": "code",
      "metadata": {
        "colab": {
          "base_uri": "https://localhost:8080/"
        },
        "id": "FJHjvRdFH1WQ",
        "outputId": "5a9cbbf6-a99d-4669-fef2-dfc769c0ed91"
      },
      "source": [
        "\n",
        "import pandas as pd\n",
        "\n",
        "d = {'one' : pd.Series([1, 2, 3], index=['a', 'b', 'c']),\n",
        "   'two' : pd.Series([1, 2, 3, 4], index=['a', 'b', 'c', 'd']),\n",
        "   'three' : pd.Series([1,2], index=['a', 'b'])}\n",
        "\n",
        "df = pd.DataFrame(d)\n",
        "\n",
        "print (df)\n",
        "\n",
        "print (\"Adding a new column by passing as Series:\")\n",
        "df['three']=pd.Series([10,20,30],index=['a','b','c'])\n",
        "print (df)\n",
        "\n",
        "print (\"Adding a new column using the existing columns in DataFrame:\")\n",
        "df['four']=df['two']+df['three']\n",
        "\n",
        "print (df)"
      ],
      "execution_count": 9,
      "outputs": [
        {
          "output_type": "stream",
          "name": "stdout",
          "text": [
            "   one  two  three\n",
            "a  1.0    1    1.0\n",
            "b  2.0    2    2.0\n",
            "c  3.0    3    NaN\n",
            "d  NaN    4    NaN\n",
            "Adding a new column by passing as Series:\n",
            "   one  two  three\n",
            "a  1.0    1   10.0\n",
            "b  2.0    2   20.0\n",
            "c  3.0    3   30.0\n",
            "d  NaN    4    NaN\n",
            "Adding a new column using the existing columns in DataFrame:\n",
            "   one  two  three  four\n",
            "a  1.0    1   10.0  11.0\n",
            "b  2.0    2   20.0  22.0\n",
            "c  3.0    3   30.0  33.0\n",
            "d  NaN    4    NaN   NaN\n"
          ]
        }
      ]
    },
    {
      "cell_type": "code",
      "metadata": {
        "colab": {
          "base_uri": "https://localhost:8080/"
        },
        "id": "mhIz1bveH7BZ",
        "outputId": "8cb243f4-0f6e-432e-93ed-f59a57d20509"
      },
      "source": [
        "# Using the previous DataFrame, we will delete a column\n",
        "# using del function\n",
        "import pandas as pd\n",
        "\n",
        "d = {'one' : pd.Series([1, 2, 3], index=['a', 'b', 'c']),\n",
        "   'two' : pd.Series([1, 2, 3, 4], index=['a', 'b', 'c', 'd']),\n",
        "   'three' : pd.Series([1,2], index=['a', 'b'])}\n",
        "\n",
        "df = pd.DataFrame(d)\n",
        "print (\"Our dataframe is:\")\n",
        "print (df)\n",
        "\n",
        "# using del function\n",
        "print (\"Deleting the first column using DEL function:\")\n",
        "del df['one']\n",
        "print (df)\n",
        "# using pop function\n",
        "print (\"Deleting another column using POP function:\")\n",
        "df.pop('two')\n",
        "print (df)"
      ],
      "execution_count": 10,
      "outputs": [
        {
          "output_type": "stream",
          "name": "stdout",
          "text": [
            "Our dataframe is:\n",
            "   one  two  three\n",
            "a  1.0    1    1.0\n",
            "b  2.0    2    2.0\n",
            "c  3.0    3    NaN\n",
            "d  NaN    4    NaN\n",
            "Deleting the first column using DEL function:\n",
            "   two  three\n",
            "a    1    1.0\n",
            "b    2    2.0\n",
            "c    3    NaN\n",
            "d    4    NaN\n",
            "Deleting another column using POP function:\n",
            "   three\n",
            "a    1.0\n",
            "b    2.0\n",
            "c    NaN\n",
            "d    NaN\n"
          ]
        }
      ]
    },
    {
      "cell_type": "code",
      "metadata": {
        "colab": {
          "base_uri": "https://localhost:8080/"
        },
        "id": "UnWv2jFBIIXU",
        "outputId": "217953ac-3e4e-43ad-a0f4-a141db77a106"
      },
      "source": [
        "import pandas as pd\n",
        "\n",
        "d = {'one' : pd.Series([1, 2, 3], index=['a', 'b', 'c']),\n",
        "   'two' : pd.Series([1, 2, 3, 4], index=['a', 'b', 'c', 'd']),\n",
        "   'three' : pd.Series([1,2], index=['a', 'b'])}\n",
        "\n",
        "df = pd.DataFrame(d)\n",
        "print (df.loc['b'])"
      ],
      "execution_count": 11,
      "outputs": [
        {
          "output_type": "stream",
          "name": "stdout",
          "text": [
            "one      2.0\n",
            "two      2.0\n",
            "three    2.0\n",
            "Name: b, dtype: float64\n"
          ]
        }
      ]
    },
    {
      "cell_type": "code",
      "metadata": {
        "colab": {
          "base_uri": "https://localhost:8080/"
        },
        "id": "KOIsWSzOIQkC",
        "outputId": "8eb6fee7-1966-4e60-c2f1-d3506262d1e8"
      },
      "source": [
        "import pandas as pd\n",
        "d = {'one' : pd.Series([1, 2, 3], index=['a', 'b', 'c']),\n",
        "   'two' : pd.Series([1, 2, 3, 4], index=['a', 'b', 'c', 'd']),\n",
        "   'three' : pd.Series([1,2], index=['a', 'b'])}\n",
        "\n",
        "df = pd.DataFrame(d)\n",
        "print (df.iloc[2])"
      ],
      "execution_count": 12,
      "outputs": [
        {
          "output_type": "stream",
          "name": "stdout",
          "text": [
            "one      3.0\n",
            "two      3.0\n",
            "three    NaN\n",
            "Name: c, dtype: float64\n"
          ]
        }
      ]
    },
    {
      "cell_type": "code",
      "metadata": {
        "colab": {
          "base_uri": "https://localhost:8080/"
        },
        "id": "MsqN5gArIVDP",
        "outputId": "e3ab4e94-aa98-4fc9-af9d-c1eef964422d"
      },
      "source": [
        "\n",
        "import pandas as pd\n",
        "d = {'one' : pd.Series([1, 2, 3], index=['a', 'b', 'c']),\n",
        "   'two' : pd.Series([1, 2, 3, 4], index=['a', 'b', 'c', 'd']),\n",
        "   'three' : pd.Series([1,2], index=['a', 'b'])}\n",
        "\n",
        "df = pd.DataFrame(d)\n",
        "print (df[2:4])"
      ],
      "execution_count": 13,
      "outputs": [
        {
          "output_type": "stream",
          "name": "stdout",
          "text": [
            "   one  two  three\n",
            "c  3.0    3    NaN\n",
            "d  NaN    4    NaN\n"
          ]
        }
      ]
    },
    {
      "cell_type": "code",
      "metadata": {
        "colab": {
          "base_uri": "https://localhost:8080/"
        },
        "id": "0ExCjufhIYw6",
        "outputId": "8bfd2040-b991-4869-bf78-92c971205195"
      },
      "source": [
        "\n",
        "import pandas as pd\n",
        "\n",
        "df = pd.DataFrame([[10, 20], [30, 40]], columns = ['a','b'])\n",
        "df2 = pd.DataFrame([[50, 60], [70, 80]], columns = ['a','b'])\n",
        "print (df)\n",
        "print(\"after appending\")\n",
        "df = df.append(df2)\n",
        "print (df)"
      ],
      "execution_count": 14,
      "outputs": [
        {
          "output_type": "stream",
          "name": "stdout",
          "text": [
            "    a   b\n",
            "0  10  20\n",
            "1  30  40\n",
            "after appending\n",
            "    a   b\n",
            "0  10  20\n",
            "1  30  40\n",
            "0  50  60\n",
            "1  70  80\n"
          ]
        }
      ]
    },
    {
      "cell_type": "code",
      "metadata": {
        "colab": {
          "base_uri": "https://localhost:8080/"
        },
        "id": "oYSPUUruIi4q",
        "outputId": "edb451d7-565c-4185-9043-e1b6ba9cd763"
      },
      "source": [
        "import pandas as pd\n",
        "\n",
        "df = pd.DataFrame([[10, 20], [30, 40]], columns = ['a','b'])\n",
        "df2 = pd.DataFrame([[50, 60], [70, 80]], columns = ['a','b'])\n",
        "\n",
        "df = df.append(df2)\n",
        "\n",
        "# Drop rows with label 0\n",
        "df = df.drop(0)\n",
        "\n",
        "print (df)"
      ],
      "execution_count": 15,
      "outputs": [
        {
          "output_type": "stream",
          "name": "stdout",
          "text": [
            "    a   b\n",
            "1  30  40\n",
            "1  70  80\n"
          ]
        }
      ]
    }
  ]
}