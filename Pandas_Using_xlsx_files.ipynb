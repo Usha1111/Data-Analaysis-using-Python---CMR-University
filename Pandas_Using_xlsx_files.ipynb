{
  "nbformat": 4,
  "nbformat_minor": 0,
  "metadata": {
    "colab": {
      "name": "Pandas_Using_xlsx_files.ipynb",
      "provenance": []
    },
    "kernelspec": {
      "name": "python3",
      "display_name": "Python 3"
    },
    "language_info": {
      "name": "python"
    }
  },
  "cells": [
    {
      "cell_type": "code",
      "metadata": {
        "colab": {
          "base_uri": "https://localhost:8080/"
        },
        "id": "p_PPimpY3Xig",
        "outputId": "7ad8e050-2a44-4fc2-af94-2d0a6fcec43a"
      },
      "source": [
        "import pandas as pd\n",
        "d=pd.read_excel(\"duplicate.xlsx\")\n",
        "df=pd.DataFrame(d)\n",
        "print(df)"
      ],
      "execution_count": 8,
      "outputs": [
        {
          "output_type": "stream",
          "name": "stdout",
          "text": [
            "        Name  Eng  Maths  Sci  Total\n",
            "0        ali   33     56   77    166\n",
            "1   nivedita   35     66   79    180\n",
            "2    saksham   36     33   81    150\n",
            "3      sonia   37     86   83    206\n",
            "4   abhishek   38     96   33    167\n",
            "5      rahul   39     33   87    159\n",
            "6    abhinav   40    116   89    245\n",
            "7   aliabbas   38     96   33    167\n",
            "8   nivedita   35     66   79    180\n",
            "9    saksham   38     96   33    167\n",
            "10     sonia   33     56   77    166\n"
          ]
        }
      ]
    },
    {
      "cell_type": "code",
      "metadata": {
        "colab": {
          "base_uri": "https://localhost:8080/"
        },
        "id": "so1W2JDl7y9G",
        "outputId": "77427d12-318b-4c6d-fbe7-b3f96a4b4d72"
      },
      "source": [
        "df.duplicated()"
      ],
      "execution_count": 9,
      "outputs": [
        {
          "output_type": "execute_result",
          "data": {
            "text/plain": [
              "0     False\n",
              "1     False\n",
              "2     False\n",
              "3     False\n",
              "4     False\n",
              "5     False\n",
              "6     False\n",
              "7     False\n",
              "8      True\n",
              "9     False\n",
              "10    False\n",
              "dtype: bool"
            ]
          },
          "metadata": {},
          "execution_count": 9
        }
      ]
    },
    {
      "cell_type": "code",
      "metadata": {
        "colab": {
          "base_uri": "https://localhost:8080/",
          "height": 363
        },
        "id": "MeGXDYit709Z",
        "outputId": "0c58774c-148c-4c27-997c-fd6eb9893668"
      },
      "source": [
        "df.drop_duplicates()"
      ],
      "execution_count": 10,
      "outputs": [
        {
          "output_type": "execute_result",
          "data": {
            "text/html": [
              "<div>\n",
              "<style scoped>\n",
              "    .dataframe tbody tr th:only-of-type {\n",
              "        vertical-align: middle;\n",
              "    }\n",
              "\n",
              "    .dataframe tbody tr th {\n",
              "        vertical-align: top;\n",
              "    }\n",
              "\n",
              "    .dataframe thead th {\n",
              "        text-align: right;\n",
              "    }\n",
              "</style>\n",
              "<table border=\"1\" class=\"dataframe\">\n",
              "  <thead>\n",
              "    <tr style=\"text-align: right;\">\n",
              "      <th></th>\n",
              "      <th>Name</th>\n",
              "      <th>Eng</th>\n",
              "      <th>Maths</th>\n",
              "      <th>Sci</th>\n",
              "      <th>Total</th>\n",
              "    </tr>\n",
              "  </thead>\n",
              "  <tbody>\n",
              "    <tr>\n",
              "      <th>0</th>\n",
              "      <td>ali</td>\n",
              "      <td>33</td>\n",
              "      <td>56</td>\n",
              "      <td>77</td>\n",
              "      <td>166</td>\n",
              "    </tr>\n",
              "    <tr>\n",
              "      <th>1</th>\n",
              "      <td>nivedita</td>\n",
              "      <td>35</td>\n",
              "      <td>66</td>\n",
              "      <td>79</td>\n",
              "      <td>180</td>\n",
              "    </tr>\n",
              "    <tr>\n",
              "      <th>2</th>\n",
              "      <td>saksham</td>\n",
              "      <td>36</td>\n",
              "      <td>33</td>\n",
              "      <td>81</td>\n",
              "      <td>150</td>\n",
              "    </tr>\n",
              "    <tr>\n",
              "      <th>3</th>\n",
              "      <td>sonia</td>\n",
              "      <td>37</td>\n",
              "      <td>86</td>\n",
              "      <td>83</td>\n",
              "      <td>206</td>\n",
              "    </tr>\n",
              "    <tr>\n",
              "      <th>4</th>\n",
              "      <td>abhishek</td>\n",
              "      <td>38</td>\n",
              "      <td>96</td>\n",
              "      <td>33</td>\n",
              "      <td>167</td>\n",
              "    </tr>\n",
              "    <tr>\n",
              "      <th>5</th>\n",
              "      <td>rahul</td>\n",
              "      <td>39</td>\n",
              "      <td>33</td>\n",
              "      <td>87</td>\n",
              "      <td>159</td>\n",
              "    </tr>\n",
              "    <tr>\n",
              "      <th>6</th>\n",
              "      <td>abhinav</td>\n",
              "      <td>40</td>\n",
              "      <td>116</td>\n",
              "      <td>89</td>\n",
              "      <td>245</td>\n",
              "    </tr>\n",
              "    <tr>\n",
              "      <th>7</th>\n",
              "      <td>aliabbas</td>\n",
              "      <td>38</td>\n",
              "      <td>96</td>\n",
              "      <td>33</td>\n",
              "      <td>167</td>\n",
              "    </tr>\n",
              "    <tr>\n",
              "      <th>9</th>\n",
              "      <td>saksham</td>\n",
              "      <td>38</td>\n",
              "      <td>96</td>\n",
              "      <td>33</td>\n",
              "      <td>167</td>\n",
              "    </tr>\n",
              "    <tr>\n",
              "      <th>10</th>\n",
              "      <td>sonia</td>\n",
              "      <td>33</td>\n",
              "      <td>56</td>\n",
              "      <td>77</td>\n",
              "      <td>166</td>\n",
              "    </tr>\n",
              "  </tbody>\n",
              "</table>\n",
              "</div>"
            ],
            "text/plain": [
              "        Name  Eng  Maths  Sci  Total\n",
              "0        ali   33     56   77    166\n",
              "1   nivedita   35     66   79    180\n",
              "2    saksham   36     33   81    150\n",
              "3      sonia   37     86   83    206\n",
              "4   abhishek   38     96   33    167\n",
              "5      rahul   39     33   87    159\n",
              "6    abhinav   40    116   89    245\n",
              "7   aliabbas   38     96   33    167\n",
              "9    saksham   38     96   33    167\n",
              "10     sonia   33     56   77    166"
            ]
          },
          "metadata": {},
          "execution_count": 10
        }
      ]
    },
    {
      "cell_type": "code",
      "metadata": {
        "colab": {
          "base_uri": "https://localhost:8080/"
        },
        "id": "2gq_va_x75qX",
        "outputId": "68db9de4-88b6-4d9c-d0c2-7d75715b0287"
      },
      "source": [
        "df=pd.DataFrame(d)\n",
        "print(df)\n",
        "df.drop_duplicates(inplace=True)\n",
        "print(df)"
      ],
      "execution_count": 11,
      "outputs": [
        {
          "output_type": "stream",
          "name": "stdout",
          "text": [
            "        Name  Eng  Maths  Sci  Total\n",
            "0        ali   33     56   77    166\n",
            "1   nivedita   35     66   79    180\n",
            "2    saksham   36     33   81    150\n",
            "3      sonia   37     86   83    206\n",
            "4   abhishek   38     96   33    167\n",
            "5      rahul   39     33   87    159\n",
            "6    abhinav   40    116   89    245\n",
            "7   aliabbas   38     96   33    167\n",
            "8   nivedita   35     66   79    180\n",
            "9    saksham   38     96   33    167\n",
            "10     sonia   33     56   77    166\n",
            "        Name  Eng  Maths  Sci  Total\n",
            "0        ali   33     56   77    166\n",
            "1   nivedita   35     66   79    180\n",
            "2    saksham   36     33   81    150\n",
            "3      sonia   37     86   83    206\n",
            "4   abhishek   38     96   33    167\n",
            "5      rahul   39     33   87    159\n",
            "6    abhinav   40    116   89    245\n",
            "7   aliabbas   38     96   33    167\n",
            "9    saksham   38     96   33    167\n",
            "10     sonia   33     56   77    166\n"
          ]
        }
      ]
    },
    {
      "cell_type": "code",
      "metadata": {
        "id": "VsXEa_BM782j"
      },
      "source": [
        ""
      ],
      "execution_count": null,
      "outputs": []
    }
  ]
}