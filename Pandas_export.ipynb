{
  "nbformat": 4,
  "nbformat_minor": 0,
  "metadata": {
    "colab": {
      "name": "Pandas_export.ipynb",
      "provenance": []
    },
    "kernelspec": {
      "name": "python3",
      "display_name": "Python 3"
    },
    "language_info": {
      "name": "python"
    }
  },
  "cells": [
    {
      "cell_type": "code",
      "metadata": {
        "colab": {
          "base_uri": "https://localhost:8080/"
        },
        "id": "dLqbwI_KAOqo",
        "outputId": "500fde03-00e7-4886-d5f1-0c250a9d88bc"
      },
      "source": [
        "import pandas as pd\n",
        "d=pd.read_excel(\"Book1.xlsx\")\n",
        "df=pd.DataFrame(d)\n",
        "print(df)"
      ],
      "execution_count": 1,
      "outputs": [
        {
          "output_type": "stream",
          "name": "stdout",
          "text": [
            "   S.No. Name  Eng  Maths  Sci  Total\n",
            "0      1    a   34     56   77    167\n",
            "1      2    s   35     66   79    180\n",
            "2      3    d   36     76   81    193\n",
            "3      4    f   37     86   83    206\n",
            "4      5   gh   38     96   85    219\n",
            "5      6    j   39    106   87    232\n",
            "6      7   kk   40    116   89    245\n"
          ]
        }
      ]
    },
    {
      "cell_type": "code",
      "metadata": {
        "colab": {
          "base_uri": "https://localhost:8080/"
        },
        "id": "9Q4ZeSOwAxYP",
        "outputId": "dc3fdc71-cbcc-4ebe-cf77-ed1cd68456d2"
      },
      "source": [
        "df['Percentage']=df['Total']/300*100\n",
        "print(df)"
      ],
      "execution_count": 2,
      "outputs": [
        {
          "output_type": "stream",
          "name": "stdout",
          "text": [
            "   S.No. Name  Eng  Maths  Sci  Total  Percentage\n",
            "0      1    a   34     56   77    167   55.666667\n",
            "1      2    s   35     66   79    180   60.000000\n",
            "2      3    d   36     76   81    193   64.333333\n",
            "3      4    f   37     86   83    206   68.666667\n",
            "4      5   gh   38     96   85    219   73.000000\n",
            "5      6    j   39    106   87    232   77.333333\n",
            "6      7   kk   40    116   89    245   81.666667\n"
          ]
        }
      ]
    },
    {
      "cell_type": "code",
      "metadata": {
        "id": "ZlzwXZJkAyy1"
      },
      "source": [
        "df.to_excel(\"new.xlsx\")"
      ],
      "execution_count": 7,
      "outputs": []
    },
    {
      "cell_type": "code",
      "metadata": {
        "id": "tumvD73IA0gV"
      },
      "source": [
        "df.to_excel(\"new1.xlsx\",index=False)"
      ],
      "execution_count": 4,
      "outputs": []
    },
    {
      "cell_type": "code",
      "metadata": {
        "id": "jNt6ec7tA2wN"
      },
      "source": [
        "df.to_csv(\"CSV1.csv\",index=False)"
      ],
      "execution_count": 5,
      "outputs": []
    },
    {
      "cell_type": "code",
      "metadata": {
        "id": "r8MjgbcBA4c5"
      },
      "source": [
        "df.to_csv(\"TEXT.txt\",index=False,sep=\"\\t\")"
      ],
      "execution_count": 6,
      "outputs": []
    }
  ]
}