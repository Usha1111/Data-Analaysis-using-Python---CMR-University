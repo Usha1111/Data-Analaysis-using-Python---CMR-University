{
  "nbformat": 4,
  "nbformat_minor": 0,
  "metadata": {
    "colab": {
      "name": "Data_Wrangling.ipynb",
      "provenance": []
    },
    "kernelspec": {
      "name": "python3",
      "display_name": "Python 3"
    },
    "language_info": {
      "name": "python"
    }
  },
  "cells": [
    {
      "cell_type": "code",
      "metadata": {
        "colab": {
          "base_uri": "https://localhost:8080/",
          "height": 238
        },
        "id": "9GcXhW5AByjU",
        "outputId": "f2cc5cf8-8177-4255-b949-a290849eb84a"
      },
      "source": [
        "# Import pandas package\n",
        "import pandas as pd\n",
        "# Assign data\n",
        "data = {'Name': ['Usha', 'Nikhitha', 'Ria', 'Asha', 'Nisha', 'Roja'],\n",
        "\t\t'Age': [20, 21, 22, 23, 24, 25],\n",
        "\t\t'Gender': ['F', 'F', 'F', 'F', 'F', 'F'],\n",
        "\t\t'Marks': [100, 95, 70, 'NaN', 50, 80]}\n",
        "\n",
        "# Convert into DataFrame\n",
        "df = pd.DataFrame(data)\n",
        "\n",
        "# Display data\n",
        "df\n"
      ],
      "execution_count": 1,
      "outputs": [
        {
          "output_type": "execute_result",
          "data": {
            "text/html": [
              "<div>\n",
              "<style scoped>\n",
              "    .dataframe tbody tr th:only-of-type {\n",
              "        vertical-align: middle;\n",
              "    }\n",
              "\n",
              "    .dataframe tbody tr th {\n",
              "        vertical-align: top;\n",
              "    }\n",
              "\n",
              "    .dataframe thead th {\n",
              "        text-align: right;\n",
              "    }\n",
              "</style>\n",
              "<table border=\"1\" class=\"dataframe\">\n",
              "  <thead>\n",
              "    <tr style=\"text-align: right;\">\n",
              "      <th></th>\n",
              "      <th>Name</th>\n",
              "      <th>Age</th>\n",
              "      <th>Gender</th>\n",
              "      <th>Marks</th>\n",
              "    </tr>\n",
              "  </thead>\n",
              "  <tbody>\n",
              "    <tr>\n",
              "      <th>0</th>\n",
              "      <td>Usha</td>\n",
              "      <td>20</td>\n",
              "      <td>F</td>\n",
              "      <td>100</td>\n",
              "    </tr>\n",
              "    <tr>\n",
              "      <th>1</th>\n",
              "      <td>Nikhitha</td>\n",
              "      <td>21</td>\n",
              "      <td>F</td>\n",
              "      <td>95</td>\n",
              "    </tr>\n",
              "    <tr>\n",
              "      <th>2</th>\n",
              "      <td>Ria</td>\n",
              "      <td>22</td>\n",
              "      <td>F</td>\n",
              "      <td>70</td>\n",
              "    </tr>\n",
              "    <tr>\n",
              "      <th>3</th>\n",
              "      <td>Asha</td>\n",
              "      <td>23</td>\n",
              "      <td>F</td>\n",
              "      <td>NaN</td>\n",
              "    </tr>\n",
              "    <tr>\n",
              "      <th>4</th>\n",
              "      <td>Nisha</td>\n",
              "      <td>24</td>\n",
              "      <td>F</td>\n",
              "      <td>50</td>\n",
              "    </tr>\n",
              "    <tr>\n",
              "      <th>5</th>\n",
              "      <td>Roja</td>\n",
              "      <td>25</td>\n",
              "      <td>F</td>\n",
              "      <td>80</td>\n",
              "    </tr>\n",
              "  </tbody>\n",
              "</table>\n",
              "</div>"
            ],
            "text/plain": [
              "       Name  Age Gender Marks\n",
              "0      Usha   20      F   100\n",
              "1  Nikhitha   21      F    95\n",
              "2       Ria   22      F    70\n",
              "3      Asha   23      F   NaN\n",
              "4     Nisha   24      F    50\n",
              "5      Roja   25      F    80"
            ]
          },
          "metadata": {},
          "execution_count": 1
        }
      ]
    },
    {
      "cell_type": "code",
      "metadata": {
        "colab": {
          "base_uri": "https://localhost:8080/",
          "height": 238
        },
        "id": "27y-p2BNCGV-",
        "outputId": "c386f3a3-3184-4bd9-eb07-f088cf634228"
      },
      "source": [
        "# Compute average\n",
        "c = average = 0\n",
        "for ele in df['Marks']:\n",
        "\tif str(ele).isnumeric():\n",
        "\t\tc += 1\n",
        "\t\taverage += ele\n",
        "average /= c\n",
        "\n",
        "# Replace missing values\n",
        "df = df.replace(to_replace=\"NaN\",\n",
        "\t\t\t\tvalue=average)\n",
        "df\n"
      ],
      "execution_count": 2,
      "outputs": [
        {
          "output_type": "execute_result",
          "data": {
            "text/html": [
              "<div>\n",
              "<style scoped>\n",
              "    .dataframe tbody tr th:only-of-type {\n",
              "        vertical-align: middle;\n",
              "    }\n",
              "\n",
              "    .dataframe tbody tr th {\n",
              "        vertical-align: top;\n",
              "    }\n",
              "\n",
              "    .dataframe thead th {\n",
              "        text-align: right;\n",
              "    }\n",
              "</style>\n",
              "<table border=\"1\" class=\"dataframe\">\n",
              "  <thead>\n",
              "    <tr style=\"text-align: right;\">\n",
              "      <th></th>\n",
              "      <th>Name</th>\n",
              "      <th>Age</th>\n",
              "      <th>Gender</th>\n",
              "      <th>Marks</th>\n",
              "    </tr>\n",
              "  </thead>\n",
              "  <tbody>\n",
              "    <tr>\n",
              "      <th>0</th>\n",
              "      <td>Usha</td>\n",
              "      <td>20</td>\n",
              "      <td>F</td>\n",
              "      <td>100.0</td>\n",
              "    </tr>\n",
              "    <tr>\n",
              "      <th>1</th>\n",
              "      <td>Nikhitha</td>\n",
              "      <td>21</td>\n",
              "      <td>F</td>\n",
              "      <td>95.0</td>\n",
              "    </tr>\n",
              "    <tr>\n",
              "      <th>2</th>\n",
              "      <td>Ria</td>\n",
              "      <td>22</td>\n",
              "      <td>F</td>\n",
              "      <td>70.0</td>\n",
              "    </tr>\n",
              "    <tr>\n",
              "      <th>3</th>\n",
              "      <td>Asha</td>\n",
              "      <td>23</td>\n",
              "      <td>F</td>\n",
              "      <td>79.0</td>\n",
              "    </tr>\n",
              "    <tr>\n",
              "      <th>4</th>\n",
              "      <td>Nisha</td>\n",
              "      <td>24</td>\n",
              "      <td>F</td>\n",
              "      <td>50.0</td>\n",
              "    </tr>\n",
              "    <tr>\n",
              "      <th>5</th>\n",
              "      <td>Roja</td>\n",
              "      <td>25</td>\n",
              "      <td>F</td>\n",
              "      <td>80.0</td>\n",
              "    </tr>\n",
              "  </tbody>\n",
              "</table>\n",
              "</div>"
            ],
            "text/plain": [
              "       Name  Age Gender  Marks\n",
              "0      Usha   20      F  100.0\n",
              "1  Nikhitha   21      F   95.0\n",
              "2       Ria   22      F   70.0\n",
              "3      Asha   23      F   79.0\n",
              "4     Nisha   24      F   50.0\n",
              "5      Roja   25      F   80.0"
            ]
          },
          "metadata": {},
          "execution_count": 2
        }
      ]
    },
    {
      "cell_type": "code",
      "metadata": {
        "colab": {
          "base_uri": "https://localhost:8080/"
        },
        "id": "8bsVwb89CIak",
        "outputId": "f55a91ed-b8d8-47ad-c437-c8a1b3968ad5"
      },
      "source": [
        "# import module\n",
        "import pandas as pd\n",
        "\n",
        "# creating DataFrame for Student Details\n",
        "details = pd.DataFrame({\n",
        "\t'id': [1051, 1077, 1450, 1023, 1045, 1056],\n",
        "\t'Name': ['Usha', 'Nikhitha', 'Ria', 'Asha', 'Nisha', 'Roja'],\n",
        "\t'Branch': ['CSE', 'CSE', 'CSE', 'CSE', 'CSE',\n",
        "\t\t\t'CSE']})\n",
        "print(details)\n"
      ],
      "execution_count": 5,
      "outputs": [
        {
          "output_type": "stream",
          "name": "stdout",
          "text": [
            "     id      Name Branch\n",
            "0  1051      Usha    CSE\n",
            "1  1077  Nikhitha    CSE\n",
            "2  1450       Ria    CSE\n",
            "3  1023      Asha    CSE\n",
            "4  1045     Nisha    CSE\n",
            "5  1056      Roja    CSE\n"
          ]
        }
      ]
    },
    {
      "cell_type": "code",
      "metadata": {
        "colab": {
          "base_uri": "https://localhost:8080/"
        },
        "id": "8D4qRkajCKAq",
        "outputId": "0f8db883-923e-41d9-b04a-426b132fdc3f"
      },
      "source": [
        "# Import module\n",
        "import pandas as pd\n",
        "\n",
        "# Creating Dataframe for Fees_Status\n",
        "fees_status = pd.DataFrame(\n",
        "\t{'id': [1051, 1077, 1450, 1023, 1045, 1056],\n",
        "\t'pending_fee': [2345, 76243, 24324, 'Nil', 7325, 33243]})\n",
        "\n",
        "print(fees_status)\n"
      ],
      "execution_count": 6,
      "outputs": [
        {
          "output_type": "stream",
          "name": "stdout",
          "text": [
            "     id pending_fee\n",
            "0  1051        2345\n",
            "1  1077       76243\n",
            "2  1450       24324\n",
            "3  1023         Nil\n",
            "4  1045        7325\n",
            "5  1056       33243\n"
          ]
        }
      ]
    },
    {
      "cell_type": "code",
      "metadata": {
        "colab": {
          "base_uri": "https://localhost:8080/"
        },
        "id": "UoTmNlXjCMAI",
        "outputId": "0c092dc4-da96-449d-f573-017e7b2842d3"
      },
      "source": [
        "# Import module\n",
        "import pandas as pd\n",
        "\n",
        "# Creating Dataframe\n",
        "details = pd.DataFrame({\n",
        "\t'id': [1051, 1077, 1450, 1023, 1045, 1056],\n",
        "\t'Name': ['Usha', 'Nikhitha', 'Ria', 'Asha', 'Nisha', 'Roja'],\n",
        "\t'Branch': ['CSE', 'CSE', 'CSE', 'CSE', 'CSE','CSE']})\n",
        "\n",
        "fees_status = pd.DataFrame(\n",
        "\t{'id': [1051, 1077, 1450, 1023, 1045, 1056],\n",
        "\t'pending_fee': [2345, 76243, 24324, 'Nil', 7325, 33243]})\n",
        "\n",
        "# Merging Dataframe\n",
        "print(pd.merge(details, fees_status, on='id'))\n"
      ],
      "execution_count": 8,
      "outputs": [
        {
          "output_type": "stream",
          "name": "stdout",
          "text": [
            "     id      Name Branch pending_fee\n",
            "0  1051      Usha    CSE        2345\n",
            "1  1077  Nikhitha    CSE       76243\n",
            "2  1450       Ria    CSE       24324\n",
            "3  1023      Asha    CSE         Nil\n",
            "4  1045     Nisha    CSE        7325\n",
            "5  1056      Roja    CSE       33243\n"
          ]
        }
      ]
    },
    {
      "cell_type": "code",
      "metadata": {
        "colab": {
          "base_uri": "https://localhost:8080/"
        },
        "id": "tXFc08RiCNyC",
        "outputId": "9f4b6925-ac1f-4422-cc31-d9faeec60f5a"
      },
      "source": [
        "# Import module\n",
        "import pandas as pd\n",
        "\n",
        "# Creating Data\n",
        "car_selling_data = {'Brand': ['Mercedes', 'BMW', 'jaguar','SUV'],\n",
        "\t\t\t\t\t'Year': [2018, 2017, 2014, 2015],\n",
        "\t\t\t\t\t'Sold': [1, 3, 5, 7]}\n",
        "\n",
        "# Creating Dataframe of car_selling_data\n",
        "df = pd.DataFrame(car_selling_data)\n",
        "print(df)\n"
      ],
      "execution_count": 10,
      "outputs": [
        {
          "output_type": "stream",
          "name": "stdout",
          "text": [
            "      Brand  Year  Sold\n",
            "0  Mercedes  2018     1\n",
            "1       BMW  2017     3\n",
            "2    jaguar  2014     5\n",
            "3       SUV  2015     7\n"
          ]
        }
      ]
    },
    {
      "cell_type": "code",
      "metadata": {
        "colab": {
          "base_uri": "https://localhost:8080/"
        },
        "id": "vsA7yuesCPNq",
        "outputId": "18c79abc-4f16-4b00-dae8-cdf9f763402e"
      },
      "source": [
        "# Import module\n",
        "import pandas as pd\n",
        "\n",
        "# Creating Data\n",
        "car_selling_data = {'Brand': ['Mercedes', 'BMW', 'jaguar','SUV'],\n",
        "\t\t\t\t\t'Year': [2018, 2017, 2014, 2015],\n",
        "\t\t\t\t\t'Sold': [1, 3, 5, 7]}\n",
        "\n",
        "# Creating Dataframe for Provided Data\n",
        "df = pd.DataFrame(car_selling_data)\n",
        "\n",
        "# Group the data when year = 2010\n",
        "grouped = df.groupby('Year')\n",
        "print(grouped.get_group(2018))\n"
      ],
      "execution_count": 9,
      "outputs": [
        {
          "output_type": "stream",
          "name": "stdout",
          "text": [
            "      Brand  Year  Sold\n",
            "0  Mercedes  2018     1\n"
          ]
        }
      ]
    },
    {
      "cell_type": "code",
      "metadata": {
        "colab": {
          "base_uri": "https://localhost:8080/"
        },
        "id": "NQcsOiizCQ6i",
        "outputId": "a7b97e23-1635-43bd-c3ce-11fe1d4e5390"
      },
      "source": [
        "# Import module\n",
        "import pandas as pd\n",
        "\n",
        "# Initializing Data\n",
        "student_data = {'Name':  ['Usha', 'Nikhitha', 'Ria', 'Asha', 'Nisha', 'Roja'],\n",
        "\n",
        "\t\t\t\t'Roll_no': [1051, 1077, 1450, 1023, 1045, 1056],\n",
        "\n",
        "\t\t\t\t'Email': ['usha@gmail.com', 'nikhithage@gmail.com',\n",
        "\t\t\t\t\t\t'rias@gmail.com', 'asha@gmail.com',\n",
        "\t\t\t\t\t\t'nishax@gmail.com', 'roja@gmail.com']}\n",
        "\n",
        "df = pd.DataFrame(student_data)\n",
        "print(df)\n"
      ],
      "execution_count": 11,
      "outputs": [
        {
          "output_type": "stream",
          "name": "stdout",
          "text": [
            "       Name  Roll_no                 Email\n",
            "0      Usha     1051        usha@gmail.com\n",
            "1  Nikhitha     1077  nikhithage@gmail.com\n",
            "2       Ria     1450        rias@gmail.com\n",
            "3      Asha     1023        asha@gmail.com\n",
            "4     Nisha     1045      nishax@gmail.com\n",
            "5      Roja     1056        roja@gmail.com\n"
          ]
        }
      ]
    },
    {
      "cell_type": "code",
      "metadata": {
        "colab": {
          "base_uri": "https://localhost:8080/"
        },
        "id": "uAZQaggsCScu",
        "outputId": "a664b47f-2203-427b-a0bd-7dca1bde5cec"
      },
      "source": [
        "# import module\n",
        "import pandas as pd\n",
        "\n",
        "# initializing Data\n",
        "student_data = {'Name':  ['Usha', 'Nikhitha', 'Ria', 'Asha', 'Nisha', 'Roja'],\n",
        "\n",
        "\t\t\t\t'Roll_no': [1051, 1077, 1450, 1023, 1045, 1056],\n",
        "\n",
        "\t\t\t\t'Email': ['usha@gmail.com', 'nikhithage@gmail.com',\n",
        "\t\t\t\t\t\t'rias@gmail.com', 'asha@gmail.com',\n",
        "\t\t\t\t\t\t'nishax@gmail.com', 'roja@gmail.com']}\n",
        "\n",
        "df = pd.DataFrame(student_data)\n",
        "\n",
        "# Here df.duplicated() list duplicate Entries in ROllno.\n",
        "# So that ~(NOT) is placed in order to get non duplicate values.\n",
        "non_duplicate = df[~df.duplicated('Roll_no')]\n",
        "\n",
        "print(non_duplicate)\n"
      ],
      "execution_count": 12,
      "outputs": [
        {
          "output_type": "stream",
          "name": "stdout",
          "text": [
            "       Name  Roll_no                 Email\n",
            "0      Usha     1051        usha@gmail.com\n",
            "1  Nikhitha     1077  nikhithage@gmail.com\n",
            "2       Ria     1450        rias@gmail.com\n",
            "3      Asha     1023        asha@gmail.com\n",
            "4     Nisha     1045      nishax@gmail.com\n",
            "5      Roja     1056        roja@gmail.com\n"
          ]
        }
      ]
    }
  ]
}