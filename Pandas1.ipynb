{
  "nbformat": 4,
  "nbformat_minor": 0,
  "metadata": {
    "colab": {
      "name": "Pandas1.ipynb",
      "provenance": []
    },
    "kernelspec": {
      "name": "python3",
      "display_name": "Python 3"
    },
    "language_info": {
      "name": "python"
    }
  },
  "cells": [
    {
      "cell_type": "code",
      "metadata": {
        "colab": {
          "base_uri": "https://localhost:8080/"
        },
        "id": "Plop0JNZpPaG",
        "outputId": "3091fe6e-6ca3-4797-da38-fd47a41937b4"
      },
      "source": [
        "#Series with 100 random numbers\n",
        "import pandas as pd\n",
        "import numpy as np\n",
        "s = pd.Series(np.random.randn(10))\n",
        "print (s)"
      ],
      "execution_count": 3,
      "outputs": [
        {
          "output_type": "stream",
          "name": "stdout",
          "text": [
            "0   -2.610655\n",
            "1   -0.142327\n",
            "2    1.450609\n",
            "3    0.092643\n",
            "4   -0.733264\n",
            "5   -0.926733\n",
            "6   -1.144791\n",
            "7    0.415810\n",
            "8   -0.687122\n",
            "9   -0.856795\n",
            "dtype: float64\n"
          ]
        }
      ]
    },
    {
      "cell_type": "code",
      "metadata": {
        "colab": {
          "base_uri": "https://localhost:8080/"
        },
        "id": "WzIfPcE9pqK0",
        "outputId": "ae9f9823-be0e-4603-d3c1-2afe02eb9f06"
      },
      "source": [
        "import pandas as pd\n",
        "import numpy as np\n",
        "s = pd.Series(np.random.randn(10))\n",
        "print (\"The axes are:\")\n",
        "print (s.axes)"
      ],
      "execution_count": 5,
      "outputs": [
        {
          "output_type": "stream",
          "name": "stdout",
          "text": [
            "The axes are:\n",
            "[RangeIndex(start=0, stop=10, step=1)]\n"
          ]
        }
      ]
    },
    {
      "cell_type": "code",
      "metadata": {
        "colab": {
          "base_uri": "https://localhost:8080/"
        },
        "id": "QBQN3Nk6qGCj",
        "outputId": "277a9962-a638-4e32-d485-89f5f773c9c3"
      },
      "source": [
        "import pandas as pd\n",
        "import numpy as np\n",
        "s1 = pd.Series(np.random.randn(4))\n",
        "print (\"Is the Object empty?\")\n",
        "print (s1.empty)\n",
        "s2 = pd.Series(np.random.randn(0))\n",
        "print (\"Is the Object empty?\")\n",
        "print (s2.empty)"
      ],
      "execution_count": 7,
      "outputs": [
        {
          "output_type": "stream",
          "name": "stdout",
          "text": [
            "Is the Object empty?\n",
            "False\n",
            "Is the Object empty?\n",
            "True\n"
          ]
        }
      ]
    },
    {
      "cell_type": "code",
      "metadata": {
        "colab": {
          "base_uri": "https://localhost:8080/"
        },
        "id": "U44vf--DqUf_",
        "outputId": "5d61a150-9458-472e-e04e-ba0af2f36b4b"
      },
      "source": [
        "import pandas as pd\n",
        "import numpy as np\n",
        "s = pd.Series(np.random.randn(10))\n",
        "print (s)\n",
        "\n",
        "print (\"The dimensions of the object:\")\n",
        "print (s.ndim)"
      ],
      "execution_count": 11,
      "outputs": [
        {
          "output_type": "stream",
          "name": "stdout",
          "text": [
            "0   -1.326128\n",
            "1    0.423999\n",
            "2   -1.614876\n",
            "3   -0.062911\n",
            "4    2.161533\n",
            "5   -1.627631\n",
            "6   -0.027528\n",
            "7   -1.156165\n",
            "8    0.118237\n",
            "9    0.916376\n",
            "dtype: float64\n",
            "The dimensions of the object:\n",
            "1\n"
          ]
        }
      ]
    },
    {
      "cell_type": "code",
      "metadata": {
        "colab": {
          "base_uri": "https://localhost:8080/"
        },
        "id": "3JGncu--qp2J",
        "outputId": "6261a6e4-f086-46d6-efde-034a1376001c"
      },
      "source": [
        "import pandas as pd\n",
        "import numpy as np\n",
        "s = pd.Series(np.random.randn(5))\n",
        "print (s)\n",
        "print (\"Size of the object is :\")\n",
        "print (s.size)"
      ],
      "execution_count": 13,
      "outputs": [
        {
          "output_type": "stream",
          "name": "stdout",
          "text": [
            "0    0.657807\n",
            "1   -1.060864\n",
            "2    1.709276\n",
            "3    1.046914\n",
            "4    2.271610\n",
            "dtype: float64\n",
            "Size of the object is :\n",
            "5\n"
          ]
        }
      ]
    },
    {
      "cell_type": "code",
      "metadata": {
        "colab": {
          "base_uri": "https://localhost:8080/"
        },
        "id": "qu5enE-Kq4RU",
        "outputId": "e7c40cf8-d627-45fd-f765-d5ceacd4f403"
      },
      "source": [
        "import pandas as pd\n",
        "import numpy as np\n",
        "s = pd.Series(np.random.randn(5))\n",
        "print (s)\n",
        "print (\"The data series is:\")\n",
        "print (s.values)"
      ],
      "execution_count": 15,
      "outputs": [
        {
          "output_type": "stream",
          "name": "stdout",
          "text": [
            "0   -2.073948\n",
            "1    0.636286\n",
            "2   -1.629407\n",
            "3   -1.631769\n",
            "4    0.246598\n",
            "dtype: float64\n",
            "The data series is:\n",
            "[-2.07394754  0.63628605 -1.62940656 -1.63176897  0.24659757]\n"
          ]
        }
      ]
    },
    {
      "cell_type": "code",
      "metadata": {
        "colab": {
          "base_uri": "https://localhost:8080/"
        },
        "id": "N4duuw77rCWZ",
        "outputId": "90015157-2161-400b-c4c9-ea7bbad0c1e0"
      },
      "source": [
        "import pandas as pd\n",
        "import numpy as np\n",
        "s = pd.Series(np.random.randn(5))\n",
        "print (\"The original series is:\")\n",
        "print (s)\n",
        "print (\"The first two rows:\")\n",
        "print (s.head(2))"
      ],
      "execution_count": 16,
      "outputs": [
        {
          "output_type": "stream",
          "name": "stdout",
          "text": [
            "The original series is:\n",
            "0    1.024850\n",
            "1   -0.223535\n",
            "2    0.857323\n",
            "3    0.094732\n",
            "4   -0.180245\n",
            "dtype: float64\n",
            "The first two rows:\n",
            "0    1.024850\n",
            "1   -0.223535\n",
            "dtype: float64\n"
          ]
        }
      ]
    },
    {
      "cell_type": "code",
      "metadata": {
        "colab": {
          "base_uri": "https://localhost:8080/"
        },
        "id": "2Eo05ut6rK6W",
        "outputId": "67f0da7a-890c-48f0-91d7-0b08534f4976"
      },
      "source": [
        "import pandas as pd\n",
        "import numpy as np\n",
        "s = pd.Series(np.random.randn(5))\n",
        "print (\"The original series is:\")\n",
        "print (s)\n",
        "\n",
        "print (\"The last two rows:\")\n",
        "print (s.tail(2))"
      ],
      "execution_count": 17,
      "outputs": [
        {
          "output_type": "stream",
          "name": "stdout",
          "text": [
            "The original series is:\n",
            "0   -0.053287\n",
            "1   -0.394679\n",
            "2    1.663373\n",
            "3    1.638184\n",
            "4   -1.155195\n",
            "dtype: float64\n",
            "The last two rows:\n",
            "3    1.638184\n",
            "4   -1.155195\n",
            "dtype: float64\n"
          ]
        }
      ]
    },
    {
      "cell_type": "code",
      "metadata": {
        "colab": {
          "base_uri": "https://localhost:8080/"
        },
        "id": "_940oPxirTpi",
        "outputId": "67345116-b752-4bcd-ae31-def397a0960e"
      },
      "source": [
        "#Create a dict of series\n",
        "import pandas as pd\n",
        "import numpy as np\n",
        "d = {'Name':pd.Series(['usha', 'nikitha']),\n",
        "   'Age':pd.Series([20,21])}\n",
        "\n",
        "#Create a dataframe\n",
        "df = pd.DataFrame(d)\n",
        "print (\"data series is:\")\n",
        "print (df)"
      ],
      "execution_count": 18,
      "outputs": [
        {
          "output_type": "stream",
          "name": "stdout",
          "text": [
            "data series is:\n",
            "      Name  Age\n",
            "0     usha   20\n",
            "1  nikitha   21\n"
          ]
        }
      ]
    },
    {
      "cell_type": "code",
      "metadata": {
        "colab": {
          "base_uri": "https://localhost:8080/"
        },
        "id": "W6BY3CpNryTl",
        "outputId": "038d42a4-294d-4d53-ab61-9d915cc7f6ae"
      },
      "source": [
        "import pandas as pd\n",
        "import numpy as np\n",
        "d = {'Name':pd.Series(['usha', 'nikitha']),\n",
        "   'Age':pd.Series([20,21])}\n",
        "\n",
        "# Create a DataFrame\n",
        "df = pd.DataFrame(d)\n",
        "print (\"transpose of data series is:\")\n",
        "print (df.T)"
      ],
      "execution_count": 20,
      "outputs": [
        {
          "output_type": "stream",
          "name": "stdout",
          "text": [
            "transpose of data series is:\n",
            "         0        1\n",
            "Name  usha  nikitha\n",
            "Age     20       21\n"
          ]
        }
      ]
    },
    {
      "cell_type": "code",
      "metadata": {
        "colab": {
          "base_uri": "https://localhost:8080/"
        },
        "id": "oBz7QhaQr7OP",
        "outputId": "323cac2a-c603-4d1f-a002-fc4ea0700e61"
      },
      "source": [
        "import pandas as pd\n",
        "import numpy as np\n",
        "d = {'Name':pd.Series(['usha', 'nikitha']),\n",
        "   'Age':pd.Series([20,21])}\n",
        "\n",
        "#Create a DataFrame\n",
        "df = pd.DataFrame(d)\n",
        "print (\"Row axis labels and column axis labels are:\")\n",
        "print (df.axes)"
      ],
      "execution_count": 21,
      "outputs": [
        {
          "output_type": "stream",
          "name": "stdout",
          "text": [
            "Row axis labels and column axis labels are:\n",
            "[RangeIndex(start=0, stop=2, step=1), Index(['Name', 'Age'], dtype='object')]\n"
          ]
        }
      ]
    },
    {
      "cell_type": "code",
      "metadata": {
        "colab": {
          "base_uri": "https://localhost:8080/"
        },
        "id": "0_VQnk8PsB6X",
        "outputId": "9ee8d06e-19fc-4aa5-bfbb-8687a75a0be0"
      },
      "source": [
        "import pandas as pd\n",
        "import numpy as np\n",
        "d = {'Name':pd.Series(['usha', 'nikitha']),\n",
        "   'Age':pd.Series([20,21])}\n",
        "   \n",
        "#Create a DataFrame\n",
        "df = pd.DataFrame(d)\n",
        "print (\"data types of each column are:\")\n",
        "print (df.dtypes)"
      ],
      "execution_count": 23,
      "outputs": [
        {
          "output_type": "stream",
          "name": "stdout",
          "text": [
            "data types of each column are:\n",
            "Name    object\n",
            "Age      int64\n",
            "dtype: object\n"
          ]
        }
      ]
    },
    {
      "cell_type": "code",
      "metadata": {
        "colab": {
          "base_uri": "https://localhost:8080/"
        },
        "id": "YfeXP9VvsK6L",
        "outputId": "29185f91-35e1-45e7-894f-f0f9460fd9e4"
      },
      "source": [
        "import pandas as pd\n",
        "import numpy as np\n",
        "d = {'Name':pd.Series(['usha', 'nikitha']),\n",
        "   'Age':pd.Series([20,21])}\n",
        "#Create a DataFrame\n",
        "df = pd.DataFrame(d)\n",
        "print (\"Is the object empty?\")\n",
        "print (df.empty)"
      ],
      "execution_count": 24,
      "outputs": [
        {
          "output_type": "stream",
          "name": "stdout",
          "text": [
            "Is the object empty?\n",
            "False\n"
          ]
        }
      ]
    },
    {
      "cell_type": "code",
      "metadata": {
        "colab": {
          "base_uri": "https://localhost:8080/"
        },
        "id": "Y97FHLNhsQf4",
        "outputId": "650da7d3-dc25-4887-9b16-9f6b3e54cbeb"
      },
      "source": [
        "#ndim-Returns the number of dimensions of the object. By definition, DataFrame is a 2D object.\n",
        "import pandas as pd\n",
        "import numpy as np\n",
        "d = {'Name':pd.Series(['usha', 'nikitha']),\n",
        "   'Age':pd.Series([20,21])}\n",
        "   \n",
        "#Create a DataFrame\n",
        "df = pd.DataFrame(d)\n",
        "print (\"object :\")\n",
        "print (df)\n",
        "print (\"The dimension of the object :\")\n",
        "print (df.ndim)"
      ],
      "execution_count": 26,
      "outputs": [
        {
          "output_type": "stream",
          "name": "stdout",
          "text": [
            "object :\n",
            "      Name  Age\n",
            "0     usha   20\n",
            "1  nikitha   21\n",
            "The dimension of the object :\n",
            "2\n"
          ]
        }
      ]
    },
    {
      "cell_type": "code",
      "metadata": {
        "colab": {
          "base_uri": "https://localhost:8080/"
        },
        "id": "21j0ob2EsauP",
        "outputId": "ac3bcb59-7be9-4368-a5ea-4d37c036a5de"
      },
      "source": [
        "import pandas as pd\n",
        "import numpy as np\n",
        "d = {'Name':pd.Series(['usha', 'nikitha']),\n",
        "   'Age':pd.Series([20,21])}\n",
        "#Create a DataFrame\n",
        "df = pd.DataFrame(d)\n",
        "print (\"Our object is:\")\n",
        "print (df)\n",
        "print (\"The shape of the object is:\")\n",
        "print (df.shape)"
      ],
      "execution_count": 27,
      "outputs": [
        {
          "output_type": "stream",
          "name": "stdout",
          "text": [
            "Our object is:\n",
            "      Name  Age\n",
            "0     usha   20\n",
            "1  nikitha   21\n",
            "The shape of the object is:\n",
            "(2, 2)\n"
          ]
        }
      ]
    },
    {
      "cell_type": "code",
      "metadata": {
        "colab": {
          "base_uri": "https://localhost:8080/"
        },
        "id": "rbMDSa6fsklU",
        "outputId": "96b56890-8871-4f46-c317-f15d5ee70c2d"
      },
      "source": [
        "import pandas as pd\n",
        "import numpy as np\n",
        "d = {'Name':pd.Series(['usha', 'nikitha']),\n",
        "   'Age':pd.Series([20,21])}\n",
        "#Create a DataFrame\n",
        "df = pd.DataFrame(d)\n",
        "print (\"object is:\")\n",
        "print (df)\n",
        "print (\"The total number of elements in the object is:\")\n",
        "print (df.size)"
      ],
      "execution_count": 33,
      "outputs": [
        {
          "output_type": "stream",
          "name": "stdout",
          "text": [
            "object is:\n",
            "      Name  Age\n",
            "0     usha   20\n",
            "1  nikitha   21\n",
            "The total number of elements in the object is:\n",
            "4\n"
          ]
        }
      ]
    },
    {
      "cell_type": "code",
      "metadata": {
        "colab": {
          "base_uri": "https://localhost:8080/"
        },
        "id": "WjWzmydbsoh3",
        "outputId": "addf3755-6ff9-4b2a-b3ca-9f8542e8415d"
      },
      "source": [
        "import pandas as pd\n",
        "import numpy as np\n",
        "d = {'Name':pd.Series(['usha', 'nikitha']),\n",
        "   'Age':pd.Series([20,21])}\n",
        "#Create a DataFrame\n",
        "df = pd.DataFrame(d)\n",
        "print (\"Our object is:\")\n",
        "print (df)\n",
        "print (\"The actual data in our data frame is:\")\n",
        "print (df.values)"
      ],
      "execution_count": 29,
      "outputs": [
        {
          "output_type": "stream",
          "name": "stdout",
          "text": [
            "Our object is:\n",
            "      Name  Age\n",
            "0     usha   20\n",
            "1  nikitha   21\n",
            "The actual data in our data frame is:\n",
            "[['usha' 20]\n",
            " ['nikitha' 21]]\n"
          ]
        }
      ]
    },
    {
      "cell_type": "code",
      "metadata": {
        "colab": {
          "base_uri": "https://localhost:8080/"
        },
        "id": "8-UaUe40swjA",
        "outputId": "a07cbb85-a543-4b71-8fe2-3f09688dc5b3"
      },
      "source": [
        "import pandas as pd\n",
        "import numpy as np\n",
        "d = {'Name':pd.Series(['usha', 'nikitha']),\n",
        "   'Age':pd.Series([20,21])}\n",
        "df = pd.DataFrame(d)\n",
        "print (\"data frame is:\")\n",
        "print (df)\n",
        "print (\"The first two rows:\")\n",
        "print (df.head(3))\n",
        "print(\"default head values\")\n",
        "print (df.head())"
      ],
      "execution_count": 30,
      "outputs": [
        {
          "output_type": "stream",
          "name": "stdout",
          "text": [
            "data frame is:\n",
            "      Name  Age\n",
            "0     usha   20\n",
            "1  nikitha   21\n",
            "The first two rows:\n",
            "      Name  Age\n",
            "0     usha   20\n",
            "1  nikitha   21\n",
            "default head values\n",
            "      Name  Age\n",
            "0     usha   20\n",
            "1  nikitha   21\n"
          ]
        }
      ]
    },
    {
      "cell_type": "code",
      "metadata": {
        "colab": {
          "base_uri": "https://localhost:8080/"
        },
        "id": "UGIs9_4ns4Vl",
        "outputId": "7e7d2d9d-6243-465f-ca4a-0090a5ed9153"
      },
      "source": [
        "import pandas as pd\n",
        "import numpy as np\n",
        "d = {'Name':pd.Series(['usha', 'nikitha']),\n",
        "   'Age':pd.Series([20,21])}\n",
        "df = pd.DataFrame(d)\n",
        "print (\"data frame is:\")\n",
        "print (df)\n",
        "print (\"The last two rowz:\")\n",
        "print (df.tail(2))"
      ],
      "execution_count": 32,
      "outputs": [
        {
          "output_type": "stream",
          "name": "stdout",
          "text": [
            "data frame is:\n",
            "      Name  Age\n",
            "0     usha   20\n",
            "1  nikitha   21\n",
            "The last two rowz:\n",
            "      Name  Age\n",
            "0     usha   20\n",
            "1  nikitha   21\n"
          ]
        }
      ]
    }
  ]
}